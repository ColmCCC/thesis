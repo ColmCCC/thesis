{
 "cells": [
  {
   "cell_type": "markdown",
   "metadata": {},
   "source": [
    "## Multi-Label Chest X-Ray Pathology Detection of COVID-19 with Transfer Learning\n",
    "Colm Clancy : 01365631 "
   ]
  },
  {
   "cell_type": "markdown",
   "metadata": {},
   "source": [
    "### BIMCV COVID-19+  metadata extraction"
   ]
  },
  {
   "cell_type": "code",
   "execution_count": 131,
   "metadata": {},
   "outputs": [],
   "source": [
    "import matplotlib.pyplot as plt\n",
    "import matplotlib.image as mpimg\n",
    "#%matplotliblib inline\n",
    "#generated_image, label = train_generator.__getitem__(0)\n",
    "#plt.imshow(generated_image[0], cmap='gray')\n",
    "#img_path = train_generator.filepaths[1]\n",
    "#img = mpimg.imread(img_path)\n",
    "#plt.imshow(img)\n",
    "%matplotlib inline\n",
    "import pandas as pd"
   ]
  },
  {
   "cell_type": "code",
   "execution_count": 132,
   "metadata": {},
   "outputs": [
    {
     "name": "stdout",
     "output_type": "stream",
     "text": [
      "Pillow Version: 7.2.0\n"
     ]
    }
   ],
   "source": [
    "# check Pillow version number\n",
    "import PIL\n",
    "print('Pillow Version:', PIL.__version__)\n",
    "%matplotlib inline"
   ]
  },
  {
   "cell_type": "code",
   "execution_count": 133,
   "metadata": {},
   "outputs": [],
   "source": [
    "    \n",
    "# Python program to read  \n",
    "# image using matplotlib \n",
    "  \n",
    "# importing matplotlib modules \n",
    "#import matplotlib.image as mpimg \n",
    "#import matplotlib.pyplot as plt \n",
    "  \n",
    "# Read Images \n",
    "#img = mpimg.imread('sub-S03044_ses-E06138_run-1_bp-chest_vp-ap_cr.png') \n",
    "#plt.figure(figsize=(20,10)) \n",
    "# Output Images \n",
    "#plt.imshow(1-img) "
   ]
  },
  {
   "cell_type": "code",
   "execution_count": 134,
   "metadata": {},
   "outputs": [],
   "source": [
    "from IPython.core.interactiveshell import InteractiveShell\n",
    "InteractiveShell.ast_node_interactivity = \"all\""
   ]
  },
  {
   "cell_type": "code",
   "execution_count": 135,
   "metadata": {},
   "outputs": [],
   "source": [
    "import pandas as pd\n",
    "#metadata.columns"
   ]
  },
  {
   "cell_type": "code",
   "execution_count": 136,
   "metadata": {},
   "outputs": [
    {
     "data": {
      "text/html": [
       "<div>\n",
       "<style scoped>\n",
       "    .dataframe tbody tr th:only-of-type {\n",
       "        vertical-align: middle;\n",
       "    }\n",
       "\n",
       "    .dataframe tbody tr th {\n",
       "        vertical-align: top;\n",
       "    }\n",
       "\n",
       "    .dataframe thead th {\n",
       "        text-align: right;\n",
       "    }\n",
       "</style>\n",
       "<table border=\"1\" class=\"dataframe\">\n",
       "  <thead>\n",
       "    <tr style=\"text-align: right;\">\n",
       "      <th></th>\n",
       "      <th>PatientID</th>\n",
       "      <th>modality_dicom</th>\n",
       "      <th>body_parts</th>\n",
       "      <th>age</th>\n",
       "      <th>gender</th>\n",
       "    </tr>\n",
       "  </thead>\n",
       "  <tbody>\n",
       "    <tr>\n",
       "      <th>0</th>\n",
       "      <td>sub-S03852</td>\n",
       "      <td>['CR']</td>\n",
       "      <td>[['CHEST']]</td>\n",
       "      <td>[85]</td>\n",
       "      <td>M</td>\n",
       "    </tr>\n",
       "    <tr>\n",
       "      <th>1</th>\n",
       "      <td>sub-S03719</td>\n",
       "      <td>['CR']</td>\n",
       "      <td>[['CHEST']]</td>\n",
       "      <td>[61]</td>\n",
       "      <td>F</td>\n",
       "    </tr>\n",
       "  </tbody>\n",
       "</table>\n",
       "</div>"
      ],
      "text/plain": [
       "    PatientID modality_dicom   body_parts   age gender\n",
       "0  sub-S03852         ['CR']  [['CHEST']]  [85]      M\n",
       "1  sub-S03719         ['CR']  [['CHEST']]  [61]      F"
      ]
     },
     "execution_count": 136,
     "metadata": {},
     "output_type": "execute_result"
    },
    {
     "data": {
      "text/plain": [
       "2265"
      ]
     },
     "execution_count": 136,
     "metadata": {},
     "output_type": "execute_result"
    }
   ],
   "source": [
    "metadata =  pd.read_csv('e:\\\\osfstorage-archive\\\\all_images\\labels_covid19_posi.tsv', sep = '\\t',engine='python')\n",
    "#metadata.drop(columns=['Unnamed: 0', 'Report'],inplace=True)\n",
    "metadata.drop(columns=['Unnamed: 0', 'Report','Localizations','LabelsLocalizationsBySentence','labelCUIS','LocalizationsCUIS'],inplace=True)\n",
    "\n",
    "metadata.drop_duplicates(keep=False,inplace=True) \n",
    "metadata.drop_duplicates(keep=False,inplace=True) \n",
    "#metadata.head(2)\n",
    "#metadata.shape\n",
    "participants =  pd.read_csv('e:\\\\osfstorage-archive\\\\all_images\\participants.tsv', sep = '\\t',engine='python')\n",
    "participants.rename(columns={'participant':'PatientID'}, inplace=True)\n",
    "participants.head(2)\n",
    "\n",
    "partitions =  pd.read_csv('e:\\\\osfstorage-archive\\\\all_images\\partitions.tsv', sep = '\\t',engine='python',header=None,skiprows=1)\n",
    "partitions = partitions[2].str.split(\"/\",expand=True)\n",
    "partitions.columns = ['no','PatientID','ReportID','partition','filename']\n",
    "#searchfor = ['pa_dx.png','ap_dx.png','pa_cr.png','ap_cr.png']\n",
    "searchfor = ['ll','lateral','ct']\n",
    "partitions = partitions[~partitions.filename.str.contains('|'.join(searchfor))]\n",
    "#partitions.shape\n",
    "\n",
    "sil_reg_covid =  pd.read_csv('e:\\\\osfstorage-archive\\\\all_images\\sil_reg_covid.tsv', sep = '\\t',engine='python')\n",
    "sil_reg_covid.rename(columns={'participant':'PatientID'}, inplace=True)\n",
    "#sil_reg_covid.shape\n",
    "\n",
    "#1,380CR and 885 DX \n",
    "1380+885\n",
    "\n"
   ]
  },
  {
   "cell_type": "code",
   "execution_count": 184,
   "metadata": {},
   "outputs": [
    {
     "data": {
      "text/html": [
       "<div>\n",
       "<style scoped>\n",
       "    .dataframe tbody tr th:only-of-type {\n",
       "        vertical-align: middle;\n",
       "    }\n",
       "\n",
       "    .dataframe tbody tr th {\n",
       "        vertical-align: top;\n",
       "    }\n",
       "\n",
       "    .dataframe thead th {\n",
       "        text-align: right;\n",
       "    }\n",
       "</style>\n",
       "<table border=\"1\" class=\"dataframe\">\n",
       "  <thead>\n",
       "    <tr style=\"text-align: right;\">\n",
       "      <th></th>\n",
       "      <th>no</th>\n",
       "      <th>PatientID</th>\n",
       "      <th>ReportID</th>\n",
       "      <th>partition</th>\n",
       "      <th>filename</th>\n",
       "    </tr>\n",
       "  </thead>\n",
       "  <tbody>\n",
       "    <tr>\n",
       "      <th>0</th>\n",
       "      <td>.</td>\n",
       "      <td>sub-S03044</td>\n",
       "      <td>ses-E06138</td>\n",
       "      <td>mod-rx</td>\n",
       "      <td>sub-S03044_ses-E06138_bp-chest_run-1_vp-ap_cr.png</td>\n",
       "    </tr>\n",
       "    <tr>\n",
       "      <th>1</th>\n",
       "      <td>.</td>\n",
       "      <td>sub-S03044</td>\n",
       "      <td>ses-E06790</td>\n",
       "      <td>mod-rx</td>\n",
       "      <td>sub-S03044_ses-E06790_bp-chest_run-1_vp-pa_dx.png</td>\n",
       "    </tr>\n",
       "    <tr>\n",
       "      <th>2</th>\n",
       "      <td>.</td>\n",
       "      <td>sub-S03044</td>\n",
       "      <td>ses-E07712</td>\n",
       "      <td>mod-rx</td>\n",
       "      <td>sub-S03044_ses-E07712_bp-chest_run-1_vp-ap_cr.png</td>\n",
       "    </tr>\n",
       "    <tr>\n",
       "      <th>3</th>\n",
       "      <td>.</td>\n",
       "      <td>sub-S03045</td>\n",
       "      <td>ses-E06139</td>\n",
       "      <td>mod-rx</td>\n",
       "      <td>sub-S03045_ses-E06139_bp-chest_run-1_vp-ap_dx.png</td>\n",
       "    </tr>\n",
       "    <tr>\n",
       "      <th>6</th>\n",
       "      <td>.</td>\n",
       "      <td>sub-S03046</td>\n",
       "      <td>ses-E06217</td>\n",
       "      <td>mod-rx</td>\n",
       "      <td>sub-S03046_ses-E06217_bp-chest_run-1_acq-1_vp-...</td>\n",
       "    </tr>\n",
       "    <tr>\n",
       "      <th>...</th>\n",
       "      <td>...</td>\n",
       "      <td>...</td>\n",
       "      <td>...</td>\n",
       "      <td>...</td>\n",
       "      <td>...</td>\n",
       "    </tr>\n",
       "    <tr>\n",
       "      <th>5549</th>\n",
       "      <td>.</td>\n",
       "      <td>sub-S04514</td>\n",
       "      <td>ses-E08966</td>\n",
       "      <td>mod-rx</td>\n",
       "      <td>sub-S04514_ses-E08966_bp-chest_run-1_vp-pa_dx.png</td>\n",
       "    </tr>\n",
       "    <tr>\n",
       "      <th>5550</th>\n",
       "      <td>.</td>\n",
       "      <td>sub-S04514</td>\n",
       "      <td>ses-E08966</td>\n",
       "      <td>mod-rx</td>\n",
       "      <td>sub-S04514_ses-E08966_bp-chest_run-2_vp-pa_dx.png</td>\n",
       "    </tr>\n",
       "    <tr>\n",
       "      <th>5551</th>\n",
       "      <td>.</td>\n",
       "      <td>sub-S04515</td>\n",
       "      <td>ses-E08967</td>\n",
       "      <td>mod-rx</td>\n",
       "      <td>sub-S04515_ses-E08967_bp-chest_run-1_vp-ap_cr.png</td>\n",
       "    </tr>\n",
       "    <tr>\n",
       "      <th>5585</th>\n",
       "      <td>.</td>\n",
       "      <td>sub-S04521</td>\n",
       "      <td>ses-E08982</td>\n",
       "      <td>mod-rx</td>\n",
       "      <td>sub-S04521_ses-E08982_bp-chest_run-1_cr.png</td>\n",
       "    </tr>\n",
       "    <tr>\n",
       "      <th>5586</th>\n",
       "      <td>.</td>\n",
       "      <td>sub-S04521</td>\n",
       "      <td>ses-E08982</td>\n",
       "      <td>mod-rx</td>\n",
       "      <td>sub-S04521_ses-E08982_bp-chest_run-1_vp-pa_cr.png</td>\n",
       "    </tr>\n",
       "  </tbody>\n",
       "</table>\n",
       "<p>2906 rows × 5 columns</p>\n",
       "</div>"
      ],
      "text/plain": [
       "     no   PatientID    ReportID partition  \\\n",
       "0     .  sub-S03044  ses-E06138    mod-rx   \n",
       "1     .  sub-S03044  ses-E06790    mod-rx   \n",
       "2     .  sub-S03044  ses-E07712    mod-rx   \n",
       "3     .  sub-S03045  ses-E06139    mod-rx   \n",
       "6     .  sub-S03046  ses-E06217    mod-rx   \n",
       "...  ..         ...         ...       ...   \n",
       "5549  .  sub-S04514  ses-E08966    mod-rx   \n",
       "5550  .  sub-S04514  ses-E08966    mod-rx   \n",
       "5551  .  sub-S04515  ses-E08967    mod-rx   \n",
       "5585  .  sub-S04521  ses-E08982    mod-rx   \n",
       "5586  .  sub-S04521  ses-E08982    mod-rx   \n",
       "\n",
       "                                               filename  \n",
       "0     sub-S03044_ses-E06138_bp-chest_run-1_vp-ap_cr.png  \n",
       "1     sub-S03044_ses-E06790_bp-chest_run-1_vp-pa_dx.png  \n",
       "2     sub-S03044_ses-E07712_bp-chest_run-1_vp-ap_cr.png  \n",
       "3     sub-S03045_ses-E06139_bp-chest_run-1_vp-ap_dx.png  \n",
       "6     sub-S03046_ses-E06217_bp-chest_run-1_acq-1_vp-...  \n",
       "...                                                 ...  \n",
       "5549  sub-S04514_ses-E08966_bp-chest_run-1_vp-pa_dx.png  \n",
       "5550  sub-S04514_ses-E08966_bp-chest_run-2_vp-pa_dx.png  \n",
       "5551  sub-S04515_ses-E08967_bp-chest_run-1_vp-ap_cr.png  \n",
       "5585        sub-S04521_ses-E08982_bp-chest_run-1_cr.png  \n",
       "5586  sub-S04521_ses-E08982_bp-chest_run-1_vp-pa_cr.png  \n",
       "\n",
       "[2906 rows x 5 columns]"
      ]
     },
     "execution_count": 184,
     "metadata": {},
     "output_type": "execute_result"
    }
   ],
   "source": [
    "partitions\n"
   ]
  },
  {
   "cell_type": "code",
   "execution_count": 138,
   "metadata": {},
   "outputs": [
    {
     "data": {
      "text/html": [
       "<div>\n",
       "<style scoped>\n",
       "    .dataframe tbody tr th:only-of-type {\n",
       "        vertical-align: middle;\n",
       "    }\n",
       "\n",
       "    .dataframe tbody tr th {\n",
       "        vertical-align: top;\n",
       "    }\n",
       "\n",
       "    .dataframe thead th {\n",
       "        text-align: right;\n",
       "    }\n",
       "</style>\n",
       "<table border=\"1\" class=\"dataframe\">\n",
       "  <thead>\n",
       "    <tr style=\"text-align: right;\">\n",
       "      <th></th>\n",
       "      <th>PatientID</th>\n",
       "      <th>ReportID</th>\n",
       "      <th>Labels</th>\n",
       "    </tr>\n",
       "  </thead>\n",
       "  <tbody>\n",
       "    <tr>\n",
       "      <th>0</th>\n",
       "      <td>sub-S03968</td>\n",
       "      <td>ses-E08123</td>\n",
       "      <td>['infiltrates'\\t 'COVID 19']</td>\n",
       "    </tr>\n",
       "    <tr>\n",
       "      <th>1</th>\n",
       "      <td>sub-S03969</td>\n",
       "      <td>ses-E08125</td>\n",
       "      <td>['normal']</td>\n",
       "    </tr>\n",
       "  </tbody>\n",
       "</table>\n",
       "</div>"
      ],
      "text/plain": [
       "    PatientID    ReportID                        Labels\n",
       "0  sub-S03968  ses-E08123  ['infiltrates'\\t 'COVID 19']\n",
       "1  sub-S03969  ses-E08125                    ['normal']"
      ]
     },
     "execution_count": 138,
     "metadata": {},
     "output_type": "execute_result"
    },
    {
     "data": {
      "text/plain": [
       "(2404, 3)"
      ]
     },
     "execution_count": 138,
     "metadata": {},
     "output_type": "execute_result"
    }
   ],
   "source": [
    "metadata.head(2)\n",
    "metadata.shape\n",
    "#1380+885\n",
    "#m2 = metadata[metadata.modality_dicom.str.contains('CT')]\n",
    "#m2.shape #1480"
   ]
  },
  {
   "cell_type": "code",
   "execution_count": 139,
   "metadata": {},
   "outputs": [
    {
     "data": {
      "text/plain": [
       "(2972, 7)"
      ]
     },
     "execution_count": 139,
     "metadata": {},
     "output_type": "execute_result"
    }
   ],
   "source": [
    "metadata = pd.merge(metadata,participants[['PatientID','age','gender','modality_dicom']],on='PatientID',how='left')\n",
    "metadata= pd.merge(metadata,partitions[['ReportID','filename']],on='ReportID',how='left')\n",
    "metadata.shape"
   ]
  },
  {
   "cell_type": "code",
   "execution_count": 140,
   "metadata": {},
   "outputs": [],
   "source": [
    "metadata.to_csv('E:/file_name.csv')\n"
   ]
  },
  {
   "cell_type": "code",
   "execution_count": 141,
   "metadata": {},
   "outputs": [
    {
     "data": {
      "text/html": [
       "<div>\n",
       "<style scoped>\n",
       "    .dataframe tbody tr th:only-of-type {\n",
       "        vertical-align: middle;\n",
       "    }\n",
       "\n",
       "    .dataframe tbody tr th {\n",
       "        vertical-align: top;\n",
       "    }\n",
       "\n",
       "    .dataframe thead th {\n",
       "        text-align: right;\n",
       "    }\n",
       "</style>\n",
       "<table border=\"1\" class=\"dataframe\">\n",
       "  <thead>\n",
       "    <tr style=\"text-align: right;\">\n",
       "      <th></th>\n",
       "      <th>PatientID</th>\n",
       "      <th>modality_dicom</th>\n",
       "      <th>body_parts</th>\n",
       "      <th>age</th>\n",
       "      <th>gender</th>\n",
       "    </tr>\n",
       "  </thead>\n",
       "  <tbody>\n",
       "    <tr>\n",
       "      <th>0</th>\n",
       "      <td>sub-S03852</td>\n",
       "      <td>['CR']</td>\n",
       "      <td>[['CHEST']]</td>\n",
       "      <td>[85]</td>\n",
       "      <td>M</td>\n",
       "    </tr>\n",
       "    <tr>\n",
       "      <th>1</th>\n",
       "      <td>sub-S03719</td>\n",
       "      <td>['CR']</td>\n",
       "      <td>[['CHEST']]</td>\n",
       "      <td>[61]</td>\n",
       "      <td>F</td>\n",
       "    </tr>\n",
       "  </tbody>\n",
       "</table>\n",
       "</div>"
      ],
      "text/plain": [
       "    PatientID modality_dicom   body_parts   age gender\n",
       "0  sub-S03852         ['CR']  [['CHEST']]  [85]      M\n",
       "1  sub-S03719         ['CR']  [['CHEST']]  [61]      F"
      ]
     },
     "execution_count": 141,
     "metadata": {},
     "output_type": "execute_result"
    },
    {
     "data": {
      "text/plain": [
       "565"
      ]
     },
     "execution_count": 141,
     "metadata": {},
     "output_type": "execute_result"
    }
   ],
   "source": [
    "participants.head(2)\n",
    "#participants.PatientID.nunique()\n",
    "136+429"
   ]
  },
  {
   "cell_type": "code",
   "execution_count": 142,
   "metadata": {},
   "outputs": [],
   "source": [
    "#partitions.ReportID.nunique()\n",
    "#Onlyfrontalimages,eitherwith\n",
    "#PA or AP,\n",
    "#supine,\n",
    "#decubitus,\n",
    "#lordoticorstanding were included in this work. \n",
    "#partitions.PatientID.nunique()\n",
    "#p-pa_dx.png\tfrontal\n",
    "#p-ap_dx.png\tfrontal\n",
    "#p-pa_cr.png\tfrontal\n",
    "#p-ap_cr.png\tfrontal\n",
    "#p-ll_cr.png\tside\n",
    "#p-lateral_cr.png\tside\n",
    "#p-ll_dx.png\tside\n",
    "#p-lateral_dx.png\tside\n",
    "#ct\n"
   ]
  },
  {
   "cell_type": "code",
   "execution_count": 143,
   "metadata": {},
   "outputs": [
    {
     "data": {
      "text/html": [
       "<div>\n",
       "<style scoped>\n",
       "    .dataframe tbody tr th:only-of-type {\n",
       "        vertical-align: middle;\n",
       "    }\n",
       "\n",
       "    .dataframe tbody tr th {\n",
       "        vertical-align: top;\n",
       "    }\n",
       "\n",
       "    .dataframe thead th {\n",
       "        text-align: right;\n",
       "    }\n",
       "</style>\n",
       "<table border=\"1\" class=\"dataframe\">\n",
       "  <thead>\n",
       "    <tr style=\"text-align: right;\">\n",
       "      <th></th>\n",
       "      <th>ï»¿label</th>\n",
       "      <th>Subject</th>\n",
       "      <th>fecha</th>\n",
       "      <th>prueba</th>\n",
       "      <th>resultado</th>\n",
       "      <th>PatientID</th>\n",
       "    </tr>\n",
       "  </thead>\n",
       "  <tbody>\n",
       "    <tr>\n",
       "      <th>0</th>\n",
       "      <td>1</td>\n",
       "      <td>1</td>\n",
       "      <td>18.03.2020</td>\n",
       "      <td>PCR</td>\n",
       "      <td>POSITIVO</td>\n",
       "      <td>sub-S03044</td>\n",
       "    </tr>\n",
       "    <tr>\n",
       "      <th>1</th>\n",
       "      <td>1</td>\n",
       "      <td>1</td>\n",
       "      <td>20.03.2020</td>\n",
       "      <td>PCR</td>\n",
       "      <td>POSITIVO</td>\n",
       "      <td>sub-S03044</td>\n",
       "    </tr>\n",
       "  </tbody>\n",
       "</table>\n",
       "</div>"
      ],
      "text/plain": [
       "   ï»¿label  Subject       fecha prueba resultado   PatientID\n",
       "0         1        1  18.03.2020    PCR  POSITIVO  sub-S03044\n",
       "1         1        1  20.03.2020    PCR  POSITIVO  sub-S03044"
      ]
     },
     "execution_count": 143,
     "metadata": {},
     "output_type": "execute_result"
    }
   ],
   "source": [
    "sil_reg_covid.head(2)"
   ]
  },
  {
   "cell_type": "code",
   "execution_count": 144,
   "metadata": {},
   "outputs": [],
   "source": [
    "metadata['Labels2'] = metadata['Labels'].replace(\"'\", '', regex=True)\n",
    "\n",
    "metadata['Labels2'] = metadata['Labels'].replace('\\t', ',', regex=True)\n",
    "metadata['Labels2'] = metadata['Labels2'].replace(\"'\", \"\", regex=True)\n",
    "metadata['Labels2'] = metadata['Labels2'].replace('\"', \"\", regex=True)\n",
    "metadata['Labels2'] = metadata['Labels2'].str.replace(\" \",\"\")\n",
    "metadata['Labels2'] = metadata['Labels2'].str.replace(\"[\",\"\")\n",
    "metadata['Labels2'] = metadata['Labels2'].str.replace(\"]\",\"\")\n",
    "metadata['Labels2'] = metadata['Labels2'].astype('category')"
   ]
  },
  {
   "cell_type": "code",
   "execution_count": 145,
   "metadata": {},
   "outputs": [],
   "source": [
    "metadata['Labels2'] = metadata['Labels2'].astype('category')"
   ]
  },
  {
   "cell_type": "code",
   "execution_count": 146,
   "metadata": {},
   "outputs": [
    {
     "data": {
      "text/html": [
       "<div>\n",
       "<style scoped>\n",
       "    .dataframe tbody tr th:only-of-type {\n",
       "        vertical-align: middle;\n",
       "    }\n",
       "\n",
       "    .dataframe tbody tr th {\n",
       "        vertical-align: top;\n",
       "    }\n",
       "\n",
       "    .dataframe thead th {\n",
       "        text-align: right;\n",
       "    }\n",
       "</style>\n",
       "<table border=\"1\" class=\"dataframe\">\n",
       "  <thead>\n",
       "    <tr style=\"text-align: right;\">\n",
       "      <th></th>\n",
       "      <th>PatientID</th>\n",
       "      <th>ReportID</th>\n",
       "      <th>Labels</th>\n",
       "      <th>age</th>\n",
       "      <th>gender</th>\n",
       "      <th>modality_dicom</th>\n",
       "      <th>filename</th>\n",
       "      <th>Labels2</th>\n",
       "    </tr>\n",
       "  </thead>\n",
       "  <tbody>\n",
       "    <tr>\n",
       "      <th>0</th>\n",
       "      <td>sub-S03968</td>\n",
       "      <td>ses-E08123</td>\n",
       "      <td>['infiltrates'\\t 'COVID 19']</td>\n",
       "      <td>[65]</td>\n",
       "      <td>M</td>\n",
       "      <td>['DX']</td>\n",
       "      <td>sub-S03968_ses-E08123_bp-chest_run-1_acq-1_vp-...</td>\n",
       "      <td>infiltrates,COVID19</td>\n",
       "    </tr>\n",
       "    <tr>\n",
       "      <th>1</th>\n",
       "      <td>sub-S03968</td>\n",
       "      <td>ses-E08123</td>\n",
       "      <td>['infiltrates'\\t 'COVID 19']</td>\n",
       "      <td>[65]</td>\n",
       "      <td>M</td>\n",
       "      <td>['DX']</td>\n",
       "      <td>sub-S03968_ses-E08123_bp-chest_run-1_acq-2_vp-...</td>\n",
       "      <td>infiltrates,COVID19</td>\n",
       "    </tr>\n",
       "    <tr>\n",
       "      <th>2</th>\n",
       "      <td>sub-S03969</td>\n",
       "      <td>ses-E08125</td>\n",
       "      <td>['normal']</td>\n",
       "      <td>[70]</td>\n",
       "      <td>M</td>\n",
       "      <td>['DX']</td>\n",
       "      <td>sub-S03969_ses-E08125_bp-chest_run-1_vp-ap_dx.png</td>\n",
       "      <td>normal</td>\n",
       "    </tr>\n",
       "    <tr>\n",
       "      <th>3</th>\n",
       "      <td>sub-S03970</td>\n",
       "      <td>ses-E08126</td>\n",
       "      <td>['infiltrates'\\t 'consolidation'\\t ' pleural e...</td>\n",
       "      <td>[74]</td>\n",
       "      <td>M</td>\n",
       "      <td>['CR', 'CT']</td>\n",
       "      <td>NaN</td>\n",
       "      <td>infiltrates,consolidation,pleuraleffusion,pneu...</td>\n",
       "    </tr>\n",
       "    <tr>\n",
       "      <th>4</th>\n",
       "      <td>sub-S03970</td>\n",
       "      <td>ses-E08863</td>\n",
       "      <td>['atelectasis'\\t ' consolidation'\\t 'costophre...</td>\n",
       "      <td>[74]</td>\n",
       "      <td>M</td>\n",
       "      <td>['CR', 'CT']</td>\n",
       "      <td>sub-S03970_ses-E08863_bp-chest_run-1_acq-1_vp-...</td>\n",
       "      <td>atelectasis,consolidation,costophrenicangleblu...</td>\n",
       "    </tr>\n",
       "    <tr>\n",
       "      <th>...</th>\n",
       "      <td>...</td>\n",
       "      <td>...</td>\n",
       "      <td>...</td>\n",
       "      <td>...</td>\n",
       "      <td>...</td>\n",
       "      <td>...</td>\n",
       "      <td>...</td>\n",
       "      <td>...</td>\n",
       "    </tr>\n",
       "    <tr>\n",
       "      <th>2967</th>\n",
       "      <td>sub-S03965</td>\n",
       "      <td>ses-E08119</td>\n",
       "      <td>['increased density'\\t 'COVID 19']</td>\n",
       "      <td>[51]</td>\n",
       "      <td>M</td>\n",
       "      <td>['CR']</td>\n",
       "      <td>sub-S03965_ses-E08119_bp-chest_run-1_cr.png</td>\n",
       "      <td>increaseddensity,COVID19</td>\n",
       "    </tr>\n",
       "    <tr>\n",
       "      <th>2968</th>\n",
       "      <td>sub-S03965</td>\n",
       "      <td>ses-E08119</td>\n",
       "      <td>['increased density'\\t 'COVID 19']</td>\n",
       "      <td>[51]</td>\n",
       "      <td>M</td>\n",
       "      <td>['CR']</td>\n",
       "      <td>sub-S03965_ses-E08119_bp-chest_run-1_vp-pa_cr.png</td>\n",
       "      <td>increaseddensity,COVID19</td>\n",
       "    </tr>\n",
       "    <tr>\n",
       "      <th>2969</th>\n",
       "      <td>sub-S03966</td>\n",
       "      <td>ses-E08121</td>\n",
       "      <td>['alveolar pattern'\\t ' consolidation'\\t 'COVI...</td>\n",
       "      <td>[67]</td>\n",
       "      <td>F</td>\n",
       "      <td>['CR']</td>\n",
       "      <td>sub-S03966_ses-E08121_bp-chest_run-1_vp-ap_cr.png</td>\n",
       "      <td>alveolarpattern,consolidation,COVID19,pneumoni...</td>\n",
       "    </tr>\n",
       "    <tr>\n",
       "      <th>2970</th>\n",
       "      <td>sub-S03967</td>\n",
       "      <td>ses-E08122</td>\n",
       "      <td>['alveolar pattern'\\t 'COVID 19']</td>\n",
       "      <td>[69]</td>\n",
       "      <td>F</td>\n",
       "      <td>['DX']</td>\n",
       "      <td>sub-S03967_ses-E08122_bp-chest_run-1_vp-ap_dx.png</td>\n",
       "      <td>alveolarpattern,COVID19</td>\n",
       "    </tr>\n",
       "    <tr>\n",
       "      <th>2971</th>\n",
       "      <td>sub-S03967</td>\n",
       "      <td>ses-E08122</td>\n",
       "      <td>['alveolar pattern'\\t 'COVID 19']</td>\n",
       "      <td>[69]</td>\n",
       "      <td>F</td>\n",
       "      <td>['DX']</td>\n",
       "      <td>sub-S03967_ses-E08122_bp-chest_run-1_vp-pa_dx.png</td>\n",
       "      <td>alveolarpattern,COVID19</td>\n",
       "    </tr>\n",
       "  </tbody>\n",
       "</table>\n",
       "<p>2972 rows × 8 columns</p>\n",
       "</div>"
      ],
      "text/plain": [
       "       PatientID    ReportID  \\\n",
       "0     sub-S03968  ses-E08123   \n",
       "1     sub-S03968  ses-E08123   \n",
       "2     sub-S03969  ses-E08125   \n",
       "3     sub-S03970  ses-E08126   \n",
       "4     sub-S03970  ses-E08863   \n",
       "...          ...         ...   \n",
       "2967  sub-S03965  ses-E08119   \n",
       "2968  sub-S03965  ses-E08119   \n",
       "2969  sub-S03966  ses-E08121   \n",
       "2970  sub-S03967  ses-E08122   \n",
       "2971  sub-S03967  ses-E08122   \n",
       "\n",
       "                                                 Labels   age gender  \\\n",
       "0                          ['infiltrates'\\t 'COVID 19']  [65]      M   \n",
       "1                          ['infiltrates'\\t 'COVID 19']  [65]      M   \n",
       "2                                            ['normal']  [70]      M   \n",
       "3     ['infiltrates'\\t 'consolidation'\\t ' pleural e...  [74]      M   \n",
       "4     ['atelectasis'\\t ' consolidation'\\t 'costophre...  [74]      M   \n",
       "...                                                 ...   ...    ...   \n",
       "2967                 ['increased density'\\t 'COVID 19']  [51]      M   \n",
       "2968                 ['increased density'\\t 'COVID 19']  [51]      M   \n",
       "2969  ['alveolar pattern'\\t ' consolidation'\\t 'COVI...  [67]      F   \n",
       "2970                  ['alveolar pattern'\\t 'COVID 19']  [69]      F   \n",
       "2971                  ['alveolar pattern'\\t 'COVID 19']  [69]      F   \n",
       "\n",
       "     modality_dicom                                           filename  \\\n",
       "0            ['DX']  sub-S03968_ses-E08123_bp-chest_run-1_acq-1_vp-...   \n",
       "1            ['DX']  sub-S03968_ses-E08123_bp-chest_run-1_acq-2_vp-...   \n",
       "2            ['DX']  sub-S03969_ses-E08125_bp-chest_run-1_vp-ap_dx.png   \n",
       "3      ['CR', 'CT']                                                NaN   \n",
       "4      ['CR', 'CT']  sub-S03970_ses-E08863_bp-chest_run-1_acq-1_vp-...   \n",
       "...             ...                                                ...   \n",
       "2967         ['CR']        sub-S03965_ses-E08119_bp-chest_run-1_cr.png   \n",
       "2968         ['CR']  sub-S03965_ses-E08119_bp-chest_run-1_vp-pa_cr.png   \n",
       "2969         ['CR']  sub-S03966_ses-E08121_bp-chest_run-1_vp-ap_cr.png   \n",
       "2970         ['DX']  sub-S03967_ses-E08122_bp-chest_run-1_vp-ap_dx.png   \n",
       "2971         ['DX']  sub-S03967_ses-E08122_bp-chest_run-1_vp-pa_dx.png   \n",
       "\n",
       "                                                Labels2  \n",
       "0                                   infiltrates,COVID19  \n",
       "1                                   infiltrates,COVID19  \n",
       "2                                                normal  \n",
       "3     infiltrates,consolidation,pleuraleffusion,pneu...  \n",
       "4     atelectasis,consolidation,costophrenicangleblu...  \n",
       "...                                                 ...  \n",
       "2967                           increaseddensity,COVID19  \n",
       "2968                           increaseddensity,COVID19  \n",
       "2969  alveolarpattern,consolidation,COVID19,pneumoni...  \n",
       "2970                            alveolarpattern,COVID19  \n",
       "2971                            alveolarpattern,COVID19  \n",
       "\n",
       "[2972 rows x 8 columns]"
      ]
     },
     "execution_count": 146,
     "metadata": {},
     "output_type": "execute_result"
    }
   ],
   "source": [
    "metadata"
   ]
  },
  {
   "cell_type": "code",
   "execution_count": 147,
   "metadata": {},
   "outputs": [],
   "source": [
    "df3= metadata.drop('Labels2', 1).join(metadata.Labels2.str.join('').str.get_dummies(','))\n",
    "#df2 = metadata.assign(**pd.get_dummies(metadata.Labels2.apply(lambda x:pd.Series(x)).stack().reset_index(level=1,drop=True)).sum(level=0))\n",
    "#pd.get_dummies(metadata.Labels2)\n"
   ]
  },
  {
   "cell_type": "code",
   "execution_count": 148,
   "metadata": {},
   "outputs": [
    {
     "data": {
      "text/html": [
       "<div>\n",
       "<style scoped>\n",
       "    .dataframe tbody tr th:only-of-type {\n",
       "        vertical-align: middle;\n",
       "    }\n",
       "\n",
       "    .dataframe tbody tr th {\n",
       "        vertical-align: top;\n",
       "    }\n",
       "\n",
       "    .dataframe thead th {\n",
       "        text-align: right;\n",
       "    }\n",
       "</style>\n",
       "<table border=\"1\" class=\"dataframe\">\n",
       "  <thead>\n",
       "    <tr style=\"text-align: right;\">\n",
       "      <th></th>\n",
       "      <th>PatientID</th>\n",
       "      <th>ReportID</th>\n",
       "      <th>Labels</th>\n",
       "      <th>age</th>\n",
       "      <th>gender</th>\n",
       "      <th>modality_dicom</th>\n",
       "      <th>filename</th>\n",
       "      <th>COPDsigns</th>\n",
       "      <th>COVID19</th>\n",
       "      <th>COVID19uncertain</th>\n",
       "      <th>...</th>\n",
       "      <th>unchanged</th>\n",
       "      <th>vascularhilarenlargement</th>\n",
       "      <th>vascularredistribution</th>\n",
       "      <th>ventriculoperitonealdraintube</th>\n",
       "      <th>vertebralanteriorcompression</th>\n",
       "      <th>vertebralcompression</th>\n",
       "      <th>vertebraldegenerativechanges</th>\n",
       "      <th>vertebralfracture</th>\n",
       "      <th>viralpneumonia</th>\n",
       "      <th>volumeloss</th>\n",
       "    </tr>\n",
       "  </thead>\n",
       "  <tbody>\n",
       "    <tr>\n",
       "      <th>4</th>\n",
       "      <td>sub-S03970</td>\n",
       "      <td>ses-E08863</td>\n",
       "      <td>['atelectasis'\\t ' consolidation'\\t 'costophre...</td>\n",
       "      <td>[74]</td>\n",
       "      <td>M</td>\n",
       "      <td>['CR', 'CT']</td>\n",
       "      <td>sub-S03970_ses-E08863_bp-chest_run-1_acq-1_vp-...</td>\n",
       "      <td>0</td>\n",
       "      <td>0</td>\n",
       "      <td>0</td>\n",
       "      <td>...</td>\n",
       "      <td>0</td>\n",
       "      <td>0</td>\n",
       "      <td>0</td>\n",
       "      <td>0</td>\n",
       "      <td>0</td>\n",
       "      <td>0</td>\n",
       "      <td>0</td>\n",
       "      <td>0</td>\n",
       "      <td>0</td>\n",
       "      <td>0</td>\n",
       "    </tr>\n",
       "    <tr>\n",
       "      <th>5</th>\n",
       "      <td>sub-S03970</td>\n",
       "      <td>ses-E08863</td>\n",
       "      <td>['atelectasis'\\t ' consolidation'\\t 'costophre...</td>\n",
       "      <td>[74]</td>\n",
       "      <td>M</td>\n",
       "      <td>['CR', 'CT']</td>\n",
       "      <td>sub-S03970_ses-E08863_bp-chest_run-1_acq-2_vp-...</td>\n",
       "      <td>0</td>\n",
       "      <td>0</td>\n",
       "      <td>0</td>\n",
       "      <td>...</td>\n",
       "      <td>0</td>\n",
       "      <td>0</td>\n",
       "      <td>0</td>\n",
       "      <td>0</td>\n",
       "      <td>0</td>\n",
       "      <td>0</td>\n",
       "      <td>0</td>\n",
       "      <td>0</td>\n",
       "      <td>0</td>\n",
       "      <td>0</td>\n",
       "    </tr>\n",
       "  </tbody>\n",
       "</table>\n",
       "<p>2 rows × 153 columns</p>\n",
       "</div>"
      ],
      "text/plain": [
       "    PatientID    ReportID                                             Labels  \\\n",
       "4  sub-S03970  ses-E08863  ['atelectasis'\\t ' consolidation'\\t 'costophre...   \n",
       "5  sub-S03970  ses-E08863  ['atelectasis'\\t ' consolidation'\\t 'costophre...   \n",
       "\n",
       "    age gender modality_dicom  \\\n",
       "4  [74]      M   ['CR', 'CT']   \n",
       "5  [74]      M   ['CR', 'CT']   \n",
       "\n",
       "                                            filename  COPDsigns  COVID19  \\\n",
       "4  sub-S03970_ses-E08863_bp-chest_run-1_acq-1_vp-...          0        0   \n",
       "5  sub-S03970_ses-E08863_bp-chest_run-1_acq-2_vp-...          0        0   \n",
       "\n",
       "   COVID19uncertain  ...  unchanged  vascularhilarenlargement  \\\n",
       "4                 0  ...          0                         0   \n",
       "5                 0  ...          0                         0   \n",
       "\n",
       "   vascularredistribution  ventriculoperitonealdraintube  \\\n",
       "4                       0                              0   \n",
       "5                       0                              0   \n",
       "\n",
       "   vertebralanteriorcompression  vertebralcompression  \\\n",
       "4                             0                     0   \n",
       "5                             0                     0   \n",
       "\n",
       "   vertebraldegenerativechanges  vertebralfracture  viralpneumonia  volumeloss  \n",
       "4                             0                  0               0           0  \n",
       "5                             0                  0               0           0  \n",
       "\n",
       "[2 rows x 153 columns]"
      ]
     },
     "execution_count": 148,
     "metadata": {},
     "output_type": "execute_result"
    }
   ],
   "source": [
    "#list(df3.columns)\n",
    "#df3['infiltrates'].sum()\n",
    "df3[df3['pacemaker'] == 1].head(2)"
   ]
  },
  {
   "cell_type": "code",
   "execution_count": 24,
   "metadata": {},
   "outputs": [
    {
     "data": {
      "text/plain": [
       "'sub-S03969_ses-E08125_bp-chest_run-1_vp-ap_dx.png'"
      ]
     },
     "execution_count": 24,
     "metadata": {},
     "output_type": "execute_result"
    }
   ],
   "source": [
    "df3.filename[2]"
   ]
  },
  {
   "cell_type": "code",
   "execution_count": null,
   "metadata": {},
   "outputs": [],
   "source": []
  },
  {
   "cell_type": "markdown",
   "metadata": {},
   "source": [
    "### json files metadata extraction"
   ]
  },
  {
   "cell_type": "code",
   "execution_count": 25,
   "metadata": {},
   "outputs": [],
   "source": [
    "jj = 'E:\\\\osfstorage-archive\\\\Data\\\\V1.0\\\\V1\\\\sub-S03975\\\\ses-E08135\\\\mod-rx\\sub-S03975_ses-E08135_acq-2_run-1_bp-chest_dx.json'\n",
    "jj2 = 'E:\\\\osfstorage-archive\\\\Data\\\\V1.0\\\\V1\\\\sub-S03974\\\\ses-E08133\\\\mod-rx\\sub-S03974_ses-E08133_run-1_bp-chest_cr.json'\n",
    "jj3 = 'E:\\\\osfstorage-archive\\\\Data\\\\V1.0\\\\V1\\\\sub-S03974\\\\ses-E08133\\\\mod-rx\\sub-S03974_ses-E08133_run-1_bp-chest_vp-pa_cr.json'\n",
    "\n",
    "ff = 'E:\\\\osfstorage-archive\\\\all_images\\\\dataset_description.json'"
   ]
  },
  {
   "cell_type": "code",
   "execution_count": 26,
   "metadata": {},
   "outputs": [],
   "source": [
    "#import json\n",
    "#with open(ff) as data_file:\n",
    "#  data = data_file.read()\n",
    "#  print(data) \n",
    "#  data_content = json.loads(data) # 00080104\n",
    "\n",
    "#import json\n",
    "#with open(jj3) as data_file:\n",
    "#  data2 = data_file.read()\n",
    "#  print(data2) \n",
    "#  data_content2 = json.loads(data2) # 00080104\n",
    "#print(json.dumps(data_content, indent=4, sort_keys=True))"
   ]
  },
  {
   "cell_type": "code",
   "execution_count": 27,
   "metadata": {},
   "outputs": [],
   "source": [
    "#for key, value in data_content.items():\n",
    "#    print (key, value)"
   ]
  },
  {
   "cell_type": "code",
   "execution_count": 28,
   "metadata": {},
   "outputs": [],
   "source": [
    "#data_content['00280004']['Value']\n",
    "#data_content['00081032']['Value'][0]['00080104']['Value']"
   ]
  },
  {
   "cell_type": "code",
   "execution_count": 29,
   "metadata": {},
   "outputs": [],
   "source": [
    "#data_content2['00280004']['Value']\n",
    "#data_content2['00081032']['Value'][0]['00080104']['Value']"
   ]
  },
  {
   "cell_type": "code",
   "execution_count": null,
   "metadata": {},
   "outputs": [],
   "source": [
    "\n"
   ]
  },
  {
   "cell_type": "code",
   "execution_count": null,
   "metadata": {},
   "outputs": [],
   "source": []
  },
  {
   "cell_type": "code",
   "execution_count": 68,
   "metadata": {},
   "outputs": [],
   "source": [
    "rootdir = 'E:\\\\osfstorage-archive\\\\all_images\\\\'\n",
    "j_list = list()\n",
    "import os\n",
    "for root, dirs, files in os.walk(rootdir):\n",
    "    for name in files:\n",
    "        if name.endswith((\".json\")) and name.startswith((\"sub\")) :\n",
    "#            print (name)\n",
    "            j_list.append(name)"
   ]
  },
  {
   "cell_type": "code",
   "execution_count": 69,
   "metadata": {},
   "outputs": [
    {
     "data": {
      "text/plain": [
       "['sub-S03044_ses-E06138_run-1_bp-chest_vp-ap_cr.json',\n",
       " 'sub-S03044_ses-E06790_run-1_bp-chest_vp-pa_dx.json',\n",
       " 'sub-S03044_ses-E07712_run-1_bp-chest_vp-ap_cr.json']"
      ]
     },
     "execution_count": 69,
     "metadata": {},
     "output_type": "execute_result"
    }
   ],
   "source": [
    "j_list[0:3]\n",
    "#import json\n",
    "#with open(filedata) as data_file:\n",
    "#  data = data_file.read()\n",
    "#  print(data) \n",
    "#  data_content = json.loads(data) # 00080104"
   ]
  },
  {
   "cell_type": "code",
   "execution_count": 32,
   "metadata": {},
   "outputs": [],
   "source": [
    "#filenames = ['file1.txt', 'file2.txt', 'file3.txt'...]\n",
    "#filedata = {filename: open(filename, 'w') for filename in j_list}"
   ]
  },
  {
   "cell_type": "code",
   "execution_count": 33,
   "metadata": {},
   "outputs": [
    {
     "data": {
      "text/plain": [
       "['sub-S03044_ses-E06138_run-1_bp-chest_vp-ap_cr.json',\n",
       " 'sub-S03044_ses-E06790_run-1_bp-chest_vp-pa_dx.json',\n",
       " 'sub-S03044_ses-E07712_run-1_bp-chest_vp-ap_cr.json',\n",
       " 'sub-S03045_ses-E06139_run-1_bp-chest_vp-ap_dx.json',\n",
       " 'sub-S03045_ses-E06910_acq-2_run-1_bp-chest_vp-ll_dx.json']"
      ]
     },
     "execution_count": 33,
     "metadata": {},
     "output_type": "execute_result"
    }
   ],
   "source": [
    "#dallas[1]\n",
    "#for file in filedata.values():\n",
    "#    file.close()\n",
    "# '0008103E': {'Value': ['AP horizontal'], 'vr': 'LO'},\n",
    "# '0008103E': {'Value': ['Tòrax AP'], 'vr': 'LO'},\n",
    "#        '00185101','00200020','0008103E'\n",
    "#0  '00200020': {'vr': 'CS'},\n",
    "#1 '00200020': {'Value': ['L', 'F'], 'vr': 'CS'},\n",
    "#2 '00200020': {'vr': 'CS'},\n",
    "#3 \n",
    "j_list[0:5]"
   ]
  },
  {
   "cell_type": "code",
   "execution_count": 73,
   "metadata": {},
   "outputs": [],
   "source": [
    "import os\n",
    "import json\n",
    "\n",
    "#EVENT = 'structured-2017-12-10-dallas/'\n",
    "rootdir = 'E:\\\\osfstorage-archive\\\\all_images\\\\'\n",
    "\n",
    "#MATCH_LIST = os.listdir(EVENT)\n",
    "\n",
    "dallas = []\n",
    "\n",
    "for x in j_list:\n",
    "        with open('{}{}'.format(rootdir, x)) as i:\n",
    "            dallas.append(json.load(i))\n",
    "            "
   ]
  },
  {
   "cell_type": "code",
   "execution_count": 74,
   "metadata": {},
   "outputs": [
    {
     "data": {
      "text/plain": [
       "['MONOCHROME2']"
      ]
     },
     "execution_count": 74,
     "metadata": {},
     "output_type": "execute_result"
    },
    {
     "data": {
      "text/plain": [
       "['RX TORAX  PA Y LAT']"
      ]
     },
     "execution_count": 74,
     "metadata": {},
     "output_type": "execute_result"
    },
    {
     "data": {
      "text/plain": [
       "{'vr': 'CS'}"
      ]
     },
     "execution_count": 74,
     "metadata": {},
     "output_type": "execute_result"
    },
    {
     "data": {
      "text/plain": [
       "'sub-S04512_ses-E08959_run-1_bp-chest_cr.json'"
      ]
     },
     "execution_count": 74,
     "metadata": {},
     "output_type": "execute_result"
    },
    {
     "data": {
      "text/plain": [
       "{'00080005': {'Value': ['ISO_IR 100'], 'vr': 'CS'},\n",
       " '00080008': {'Value': ['ORIGINAL', 'PRIMARY'], 'vr': 'CS'},\n",
       " '00080016': {'Value': ['1.2.840.10008.5.1.4.1.1.1'], 'vr': 'UI'},\n",
       " '00080018': {'Value': ['1.2.840.113654.2.70.1.45172134579788880257337370111661559291'],\n",
       "  'vr': 'UI'},\n",
       " '00080020': {'Value': ['20200310'], 'vr': 'DA'},\n",
       " '00080021': {'Value': ['20200310'], 'vr': 'DA'},\n",
       " '00080022': {'Value': ['20200310'], 'vr': 'DA'},\n",
       " '00080023': {'Value': ['20200310'], 'vr': 'DA'},\n",
       " '00080030': {'Value': ['220024.125000'], 'vr': 'TM'},\n",
       " '00080031': {'Value': ['220114.000000'], 'vr': 'TM'},\n",
       " '00080032': {'Value': ['220114.000000'], 'vr': 'TM'},\n",
       " '00080033': {'Value': ['220114.000000'], 'vr': 'TM'},\n",
       " '00080050': {'Value': ['002796'], 'vr': 'SH'},\n",
       " '00080060': {'Value': ['CR'], 'vr': 'CS'},\n",
       " '00080070': {'Value': ['SIEMENS'], 'vr': 'LO'},\n",
       " '00080090': {'Value': [{'Alphabetic': ' '}], 'vr': 'PN'},\n",
       " '00081032': {'Value': [{'00080100': {'Value': ['3061010101001040'],\n",
       "     'vr': 'SH'},\n",
       "    '00080102': {'Value': ['CCG_CSTemp'], 'vr': 'SH'},\n",
       "    '00080104': {'Value': ['RX TORAX  PA Y LAT'], 'vr': 'LO'}}],\n",
       "  'vr': 'SQ'},\n",
       " '0008103E': {'Value': ['W034 Tórax Lat.'], 'vr': 'LO'},\n",
       " '00081090': {'Value': ['SIEMENS FD-X'], 'vr': 'LO'},\n",
       " '00090010': {'Value': ['GEIIS'], 'vr': 'LO'},\n",
       " '00100010': {'Value': [{'Alphabetic': '123434'}], 'vr': 'PN'},\n",
       " '00100020': {'Value': ['001448'], 'vr': 'LO'},\n",
       " '00100030': {'Value': ['19590430'], 'vr': 'DA'},\n",
       " '00100040': {'Value': ['M'], 'vr': 'CS'},\n",
       " '00101010': {'Value': ['060Y'], 'vr': 'AS'},\n",
       " '001021C0': {'Value': [4], 'vr': 'US'},\n",
       " '00104000': {'Value': ['Project:covid19_posi Subject:001448 Session:002796'],\n",
       "  'vr': 'LT'},\n",
       " '00120062': {'Value': ['YES'], 'vr': 'CS'},\n",
       " '00120063': {'Value': ['CTP Default:  based on DICOM PS3.15 AnnexE. Details in 0012,0064'],\n",
       "  'vr': 'LO'},\n",
       " '00120064': {'Value': [{'00080100': {'Value': ['113100'], 'vr': 'SH'},\n",
       "    '00080102': {'Value': ['DCM'], 'vr': 'SH'},\n",
       "    '00080104': {'Value': ['Basic Application Confidentiality Profile'],\n",
       "     'vr': 'LO'}},\n",
       "   {'00080100': {'Value': ['113105'], 'vr': 'SH'},\n",
       "    '00080102': {'Value': ['DCM'], 'vr': 'SH'},\n",
       "    '00080104': {'Value': ['Clean Descriptors Option'], 'vr': 'LO'}},\n",
       "   {'00080100': {'Value': ['113107'], 'vr': 'SH'},\n",
       "    '00080102': {'Value': ['DCM'], 'vr': 'SH'},\n",
       "    '00080104': {'Value': ['Retain Longitudinal Temporal Information Modified Dates Option'],\n",
       "     'vr': 'LO'}},\n",
       "   {'00080100': {'Value': ['113108'], 'vr': 'SH'},\n",
       "    '00080102': {'Value': ['DCM'], 'vr': 'SH'},\n",
       "    '00080104': {'Value': ['Retain Patient Characteristics Option'],\n",
       "     'vr': 'LO'}},\n",
       "   {'00080100': {'Value': ['113109'], 'vr': 'SH'},\n",
       "    '00080102': {'Value': ['DCM'], 'vr': 'SH'},\n",
       "    '00080104': {'Value': ['Retain Device Identity Option'], 'vr': 'LO'}},\n",
       "   {'00080100': {'Value': ['11'], 'vr': 'SH'},\n",
       "    '00080102': {'Value': ['XNAT'], 'vr': 'SH'},\n",
       "    '00080103': {'Value': ['1.0'], 'vr': 'SH'},\n",
       "    '00080104': {'Value': ['XNAT DicomEdit 4 Script'], 'vr': 'LO'}}],\n",
       "  'vr': 'SQ'},\n",
       " '00180015': {'vr': 'CS'},\n",
       " '00180060': {'Value': [129.0], 'vr': 'DS'},\n",
       " '00181000': {'Value': ['1180'], 'vr': 'LO'},\n",
       " '00181004': {'Value': ['SN084215       |DC0842         |SW61538691B    |PN00100204JB'],\n",
       "  'vr': 'LO'},\n",
       " '00181020': {'Value': ['VB21D'], 'vr': 'LO'},\n",
       " '00181110': {'Value': [1800.0], 'vr': 'DS'},\n",
       " '00181150': {'Value': [28], 'vr': 'IS'},\n",
       " '00181151': {'Value': [185], 'vr': 'IS'},\n",
       " '00181152': {'Value': [5], 'vr': 'IS'},\n",
       " '00181153': {'Value': [5340], 'vr': 'IS'},\n",
       " '0018115E': {'Value': [2.98], 'vr': 'DS'},\n",
       " '00181160': {'Value': ['NONE'], 'vr': 'SH'},\n",
       " '00181164': {'Value': [0.143, 0.143], 'vr': 'DS'},\n",
       " '00181166': {'Value': ['FOCUSED'], 'vr': 'CS'},\n",
       " '00181180': {'Value': ['180cm'], 'vr': 'SH'},\n",
       " '00181200': {'Value': ['20191103'], 'vr': 'DA'},\n",
       " '00181401': {'Value': ['3'], 'vr': 'LO'},\n",
       " '00181405': {'Value': [302], 'vr': 'IS'},\n",
       " '00185100': {'vr': 'CS'},\n",
       " '00185101': {'vr': 'CS'},\n",
       " '00186000': {'Value': [400.0], 'vr': 'DS'},\n",
       " '00187000': {'Value': ['YES'], 'vr': 'CS'},\n",
       " '00187001': {'Value': [37.0], 'vr': 'DS'},\n",
       " '0018700C': {'Value': ['20191103'], 'vr': 'DA'},\n",
       " '0018700E': {'Value': ['160714'], 'vr': 'TM'},\n",
       " '0018704C': {'Value': [1800.0], 'vr': 'DS'},\n",
       " '00190010': {'Value': ['Siemens: Thorax/Multix FD Lab Settings'], 'vr': 'LO'},\n",
       " '0020000D': {'Value': ['1.2.840.113654.2.70.1.152654522434010035676243017049151588488'],\n",
       "  'vr': 'UI'},\n",
       " '0020000E': {'Value': ['1.2.840.113654.2.70.1.19891417484080961588981557924223769738'],\n",
       "  'vr': 'UI'},\n",
       " '00200010': {'vr': 'SH'},\n",
       " '00200011': {'Value': [2], 'vr': 'IS'},\n",
       " '00200012': {'Value': [2], 'vr': 'IS'},\n",
       " '00200013': {'Value': [1], 'vr': 'IS'},\n",
       " '00200020': {'vr': 'CS'},\n",
       " '00200060': {'vr': 'CS'},\n",
       " '00210010': {'Value': ['Siemens: Thorax/Multix FD Post Processing'],\n",
       "  'vr': 'LO'},\n",
       " '00250010': {'Value': ['Siemens: Thorax/Multix FD Raw Image Settings'],\n",
       "  'vr': 'LO'},\n",
       " '00280002': {'Value': [1], 'vr': 'US'},\n",
       " '00280004': {'Value': ['MONOCHROME2'], 'vr': 'CS'},\n",
       " '00280010': {'Value': [2581], 'vr': 'US'},\n",
       " '00280011': {'Value': [2590], 'vr': 'US'},\n",
       " '00280100': {'Value': [16], 'vr': 'US'},\n",
       " '00280101': {'Value': [12], 'vr': 'US'},\n",
       " '00280102': {'Value': [11], 'vr': 'US'},\n",
       " '00280103': {'Value': [0], 'vr': 'US'},\n",
       " '00280301': {'Value': ['NO'], 'vr': 'CS'},\n",
       " '00280303': {'Value': ['MODIFIED'], 'vr': 'CS'},\n",
       " '00281050': {'Value': [1699.0], 'vr': 'DS'},\n",
       " '00281051': {'Value': [3042.0], 'vr': 'DS'},\n",
       " '00282110': {'Value': ['00'], 'vr': 'CS'},\n",
       " '00290010': {'Value': ['SIEMENS MEDCOM HEADER'], 'vr': 'LO'},\n",
       " '00290011': {'Value': ['SIEMENS MEDCOM HEADER2'], 'vr': 'LO'},\n",
       " '00321064': {'Value': [{'00080100': {'Value': ['3061010101001040'],\n",
       "     'vr': 'SH'},\n",
       "    '00080102': {'Value': ['CCG_CSTemp'], 'vr': 'SH'},\n",
       "    '00080104': {'Value': ['RX TÓRAX, PA Y LAT'], 'vr': 'LO'}}],\n",
       "  'vr': 'SQ'},\n",
       " '00400244': {'Value': ['20200310'], 'vr': 'DA'},\n",
       " '00400245': {'Value': ['220024.125000'], 'vr': 'TM'},\n",
       " '09030010': {'Value': ['GEIIS PACS'], 'vr': 'LO'},\n",
       " '09050010': {'Value': ['GEIIS'], 'vr': 'LO'},\n",
       " '20500020': {'Value': ['IDENTITY'], 'vr': 'CS'},\n",
       " '7FD10010': {'Value': ['GEIIS'], 'vr': 'LO'}}"
      ]
     },
     "execution_count": 74,
     "metadata": {},
     "output_type": "execute_result"
    }
   ],
   "source": [
    "dallas[3843]['00280004']['Value']\n",
    "dallas[3843]['00081032']['Value'][0]['00080104']['Value']\n",
    "dallas[3843]['00200020']\n",
    "#dallas[100]['00200020']\n",
    "#dallas[1]['00185100']\n",
    "#dallas[100]['00185101']\n",
    "#(0018,5100)\n",
    "#(0018,5101)\n",
    "#dallas[100]['00201040']\n",
    "#dallas[1]\n",
    "#dallas[28]['00185101']\n",
    "j_list[3843]\n",
    "dallas[3843]"
   ]
  },
  {
   "cell_type": "code",
   "execution_count": 75,
   "metadata": {},
   "outputs": [],
   "source": [
    "#for x in range(len(dallas)):\n",
    "test_l1 = []\n",
    "test_l2 = []\n",
    "test_l3 = []\n",
    "test_l4 = []\n",
    "test_l5 = []\n",
    "\n",
    "for x in range(len(dallas)):\n",
    "    try:\n",
    " #       print(dallas[x]['00280004']['Value'])\n",
    "        test_l1.append(dallas[x]['00280004']['Value'])\n",
    "#        test_l2.append(dallas[x]['00081032']['Value'][0]['00080104']['Value'])\n",
    "        test_l3.append(dallas[x]['00185101'])\n",
    "#        test_l4.append(dallas[x]['00200020'])\n",
    "#        test_l5.append(dallas[x]['0008103E']['Value'][0])\n",
    "    except KeyError:\n",
    "#         test_l1.append('NA')\n",
    "#         test_l2.append('NA')\n",
    "         test_l3.append('NA')\n",
    "         test_l4.append('NA')    \n",
    "         test_l5.append('NA')"
   ]
  },
  {
   "cell_type": "code",
   "execution_count": 76,
   "metadata": {},
   "outputs": [],
   "source": [
    "import pandas as pd\n",
    "dfd = pd.DataFrame(list(zip(test_l1,test_l3,j_list)), \n",
    "               columns =['colour','00185101','filename_1']) "
   ]
  },
  {
   "cell_type": "code",
   "execution_count": 77,
   "metadata": {},
   "outputs": [
    {
     "data": {
      "text/plain": [
       "3861"
      ]
     },
     "execution_count": 77,
     "metadata": {},
     "output_type": "execute_result"
    },
    {
     "data": {
      "text/plain": [
       "3861"
      ]
     },
     "execution_count": 77,
     "metadata": {},
     "output_type": "execute_result"
    },
    {
     "data": {
      "text/plain": [
       "3861"
      ]
     },
     "execution_count": 77,
     "metadata": {},
     "output_type": "execute_result"
    }
   ],
   "source": [
    "#dfd.position3\n",
    "len(test_l3)\n",
    "len(j_list)\n",
    "len(test_l1)"
   ]
  },
  {
   "cell_type": "code",
   "execution_count": 417,
   "metadata": {},
   "outputs": [],
   "source": [
    "searchfor2 = ['ll','lateral','ct','LAT']\n",
    "#searchfor2 = ['ct']\n",
    "\n",
    "dfd = dfd[~dfd.filename_1.str.contains('|'.join(searchfor2))]"
   ]
  },
  {
   "cell_type": "code",
   "execution_count": 473,
   "metadata": {},
   "outputs": [],
   "source": [
    "searchfor3 = ['MONOCHROME1']\n",
    "#searchfor2 = ['ct']\n",
    "\n",
    "dfd = dfd[~dfd.colour.str.contains('|'.join(searchfor3))]"
   ]
  },
  {
   "cell_type": "code",
   "execution_count": 474,
   "metadata": {},
   "outputs": [
    {
     "name": "stderr",
     "output_type": "stream",
     "text": [
      "C:\\Users\\colmc\\Anaconda3\\envs\\new_env\\lib\\site-packages\\ipykernel_launcher.py:1: SettingWithCopyWarning: \n",
      "A value is trying to be set on a copy of a slice from a DataFrame.\n",
      "Try using .loc[row_indexer,col_indexer] = value instead\n",
      "\n",
      "See the caveats in the documentation: https://pandas.pydata.org/pandas-docs/stable/user_guide/indexing.html#returning-a-view-versus-a-copy\n",
      "  \"\"\"Entry point for launching an IPython kernel.\n",
      "C:\\Users\\colmc\\Anaconda3\\envs\\new_env\\lib\\site-packages\\ipykernel_launcher.py:3: SettingWithCopyWarning: \n",
      "A value is trying to be set on a copy of a slice from a DataFrame.\n",
      "Try using .loc[row_indexer,col_indexer] = value instead\n",
      "\n",
      "See the caveats in the documentation: https://pandas.pydata.org/pandas-docs/stable/user_guide/indexing.html#returning-a-view-versus-a-copy\n",
      "  This is separate from the ipykernel package so we can avoid doing imports until\n",
      "C:\\Users\\colmc\\Anaconda3\\envs\\new_env\\lib\\site-packages\\ipykernel_launcher.py:4: SettingWithCopyWarning: \n",
      "A value is trying to be set on a copy of a slice from a DataFrame.\n",
      "Try using .loc[row_indexer,col_indexer] = value instead\n",
      "\n",
      "See the caveats in the documentation: https://pandas.pydata.org/pandas-docs/stable/user_guide/indexing.html#returning-a-view-versus-a-copy\n",
      "  after removing the cwd from sys.path.\n"
     ]
    }
   ],
   "source": [
    "dfd['colour'] = dfd['colour'].astype(str)\n",
    "\n",
    "dfd['colour'] = dfd['colour'].str.replace(\"[\",\"\")\n",
    "dfd['colour'] = dfd['colour'].str.replace(\"]\",\"\")"
   ]
  },
  {
   "cell_type": "code",
   "execution_count": 475,
   "metadata": {},
   "outputs": [
    {
     "data": {
      "text/html": [
       "<div>\n",
       "<style scoped>\n",
       "    .dataframe tbody tr th:only-of-type {\n",
       "        vertical-align: middle;\n",
       "    }\n",
       "\n",
       "    .dataframe tbody tr th {\n",
       "        vertical-align: top;\n",
       "    }\n",
       "\n",
       "    .dataframe thead th {\n",
       "        text-align: right;\n",
       "    }\n",
       "</style>\n",
       "<table border=\"1\" class=\"dataframe\">\n",
       "  <thead>\n",
       "    <tr style=\"text-align: right;\">\n",
       "      <th></th>\n",
       "      <th>colour</th>\n",
       "      <th>00185101</th>\n",
       "      <th>filename_1</th>\n",
       "      <th>filename_2</th>\n",
       "      <th>filename</th>\n",
       "    </tr>\n",
       "  </thead>\n",
       "  <tbody>\n",
       "    <tr>\n",
       "      <th>0</th>\n",
       "      <td>'MONOCHROME2'</td>\n",
       "      <td>{'vr': 'CS'}</td>\n",
       "      <td>sub-S03044_ses-E06138_run-1_bp-chest_vp-ap_cr....</td>\n",
       "      <td>sub-S03044_ses-E06138_run-1_bp-chest_vp-ap_cr.png</td>\n",
       "      <td>sub-S03044_ses-E06138_run-1_bp-chest_vp-ap_cr.png</td>\n",
       "    </tr>\n",
       "    <tr>\n",
       "      <th>2</th>\n",
       "      <td>'MONOCHROME2'</td>\n",
       "      <td>{'vr': 'CS'}</td>\n",
       "      <td>sub-S03044_ses-E07712_run-1_bp-chest_vp-ap_cr....</td>\n",
       "      <td>sub-S03044_ses-E07712_run-1_bp-chest_vp-ap_cr.png</td>\n",
       "      <td>sub-S03044_ses-E07712_run-1_bp-chest_vp-ap_cr.png</td>\n",
       "    </tr>\n",
       "    <tr>\n",
       "      <th>5</th>\n",
       "      <td>'MONOCHROME2'</td>\n",
       "      <td>{'vr': 'CS'}</td>\n",
       "      <td>sub-S03046_ses-E06217_acq-2_run-1_bp-chest_vp-...</td>\n",
       "      <td>sub-S03046_ses-E06217_acq-2_run-1_bp-chest_vp-...</td>\n",
       "      <td>sub-S03046_ses-E06217_acq-2_run-1_bp-chest_vp-...</td>\n",
       "    </tr>\n",
       "    <tr>\n",
       "      <th>6</th>\n",
       "      <td>'MONOCHROME2'</td>\n",
       "      <td>{'vr': 'CS'}</td>\n",
       "      <td>sub-S03046_ses-E06569_run-1_bp-chest_vp-ap_cr....</td>\n",
       "      <td>sub-S03046_ses-E06569_run-1_bp-chest_vp-ap_cr.png</td>\n",
       "      <td>sub-S03046_ses-E06569_run-1_bp-chest_vp-ap_cr.png</td>\n",
       "    </tr>\n",
       "    <tr>\n",
       "      <th>7</th>\n",
       "      <td>'MONOCHROME2'</td>\n",
       "      <td>{'Value': ['PA'], 'vr': 'CS'}</td>\n",
       "      <td>sub-S03046_ses-E06791_run-1_bp-chest_vp-pa_dx....</td>\n",
       "      <td>sub-S03046_ses-E06791_run-1_bp-chest_vp-pa_dx.png</td>\n",
       "      <td>sub-S03046_ses-E06791_run-1_bp-chest_vp-pa_dx.png</td>\n",
       "    </tr>\n",
       "  </tbody>\n",
       "</table>\n",
       "</div>"
      ],
      "text/plain": [
       "          colour                       00185101  \\\n",
       "0  'MONOCHROME2'                   {'vr': 'CS'}   \n",
       "2  'MONOCHROME2'                   {'vr': 'CS'}   \n",
       "5  'MONOCHROME2'                   {'vr': 'CS'}   \n",
       "6  'MONOCHROME2'                   {'vr': 'CS'}   \n",
       "7  'MONOCHROME2'  {'Value': ['PA'], 'vr': 'CS'}   \n",
       "\n",
       "                                          filename_1  \\\n",
       "0  sub-S03044_ses-E06138_run-1_bp-chest_vp-ap_cr....   \n",
       "2  sub-S03044_ses-E07712_run-1_bp-chest_vp-ap_cr....   \n",
       "5  sub-S03046_ses-E06217_acq-2_run-1_bp-chest_vp-...   \n",
       "6  sub-S03046_ses-E06569_run-1_bp-chest_vp-ap_cr....   \n",
       "7  sub-S03046_ses-E06791_run-1_bp-chest_vp-pa_dx....   \n",
       "\n",
       "                                          filename_2  \\\n",
       "0  sub-S03044_ses-E06138_run-1_bp-chest_vp-ap_cr.png   \n",
       "2  sub-S03044_ses-E07712_run-1_bp-chest_vp-ap_cr.png   \n",
       "5  sub-S03046_ses-E06217_acq-2_run-1_bp-chest_vp-...   \n",
       "6  sub-S03046_ses-E06569_run-1_bp-chest_vp-ap_cr.png   \n",
       "7  sub-S03046_ses-E06791_run-1_bp-chest_vp-pa_dx.png   \n",
       "\n",
       "                                            filename  \n",
       "0  sub-S03044_ses-E06138_run-1_bp-chest_vp-ap_cr.png  \n",
       "2  sub-S03044_ses-E07712_run-1_bp-chest_vp-ap_cr.png  \n",
       "5  sub-S03046_ses-E06217_acq-2_run-1_bp-chest_vp-...  \n",
       "6  sub-S03046_ses-E06569_run-1_bp-chest_vp-ap_cr.png  \n",
       "7  sub-S03046_ses-E06791_run-1_bp-chest_vp-pa_dx.png  "
      ]
     },
     "execution_count": 475,
     "metadata": {},
     "output_type": "execute_result"
    },
    {
     "data": {
      "text/plain": [
       "'MONOCHROME2'    1981\n",
       "Name: colour, dtype: int64"
      ]
     },
     "execution_count": 475,
     "metadata": {},
     "output_type": "execute_result"
    }
   ],
   "source": [
    "dfd.head(5)\n",
    "#test_l3[0:10]\n",
    "dfd.colour.value_counts()\n",
    "#dfd.to_csv('/A_test.csv')"
   ]
  },
  {
   "cell_type": "code",
   "execution_count": 476,
   "metadata": {},
   "outputs": [
    {
     "name": "stderr",
     "output_type": "stream",
     "text": [
      "C:\\Users\\colmc\\Anaconda3\\envs\\new_env\\lib\\site-packages\\ipykernel_launcher.py:1: SettingWithCopyWarning: \n",
      "A value is trying to be set on a copy of a slice from a DataFrame.\n",
      "Try using .loc[row_indexer,col_indexer] = value instead\n",
      "\n",
      "See the caveats in the documentation: https://pandas.pydata.org/pandas-docs/stable/user_guide/indexing.html#returning-a-view-versus-a-copy\n",
      "  \"\"\"Entry point for launching an IPython kernel.\n",
      "C:\\Users\\colmc\\Anaconda3\\envs\\new_env\\lib\\site-packages\\ipykernel_launcher.py:2: SettingWithCopyWarning: \n",
      "A value is trying to be set on a copy of a slice from a DataFrame.\n",
      "Try using .loc[row_indexer,col_indexer] = value instead\n",
      "\n",
      "See the caveats in the documentation: https://pandas.pydata.org/pandas-docs/stable/user_guide/indexing.html#returning-a-view-versus-a-copy\n",
      "  \n"
     ]
    }
   ],
   "source": [
    "dfd['filename_2'] = dfd['filename_1'].str.replace(r'.json', '.png')\n",
    "dfd['filename']= dfd['filename_1'].str.replace(r'.json', '.png')\n",
    "\n"
   ]
  },
  {
   "cell_type": "markdown",
   "metadata": {},
   "source": [
    "### copy files based on list"
   ]
  },
  {
   "cell_type": "code",
   "execution_count": 422,
   "metadata": {},
   "outputs": [],
   "source": [
    "file_list = list(dfd.filename_2)"
   ]
  },
  {
   "cell_type": "code",
   "execution_count": 530,
   "metadata": {},
   "outputs": [
    {
     "data": {
      "text/html": [
       "<div>\n",
       "<style scoped>\n",
       "    .dataframe tbody tr th:only-of-type {\n",
       "        vertical-align: middle;\n",
       "    }\n",
       "\n",
       "    .dataframe tbody tr th {\n",
       "        vertical-align: top;\n",
       "    }\n",
       "\n",
       "    .dataframe thead th {\n",
       "        text-align: right;\n",
       "    }\n",
       "</style>\n",
       "<table border=\"1\" class=\"dataframe\">\n",
       "  <thead>\n",
       "    <tr style=\"text-align: right;\">\n",
       "      <th></th>\n",
       "      <th>colour</th>\n",
       "      <th>00185101</th>\n",
       "      <th>filename_1</th>\n",
       "      <th>filename_2</th>\n",
       "      <th>filename</th>\n",
       "    </tr>\n",
       "  </thead>\n",
       "  <tbody>\n",
       "    <tr>\n",
       "      <th>0</th>\n",
       "      <td>'MONOCHROME2'</td>\n",
       "      <td>{'vr': 'CS'}</td>\n",
       "      <td>sub-S03044_ses-E06138_run-1_bp-chest_vp-ap_cr....</td>\n",
       "      <td>sub-S03044_ses-E06138_run-1_bp-chest_vp-ap_cr.png</td>\n",
       "      <td>sub-S03044_ses-E06138_run-1_bp-chest_vp-ap_cr.png</td>\n",
       "    </tr>\n",
       "    <tr>\n",
       "      <th>2</th>\n",
       "      <td>'MONOCHROME2'</td>\n",
       "      <td>{'vr': 'CS'}</td>\n",
       "      <td>sub-S03044_ses-E07712_run-1_bp-chest_vp-ap_cr....</td>\n",
       "      <td>sub-S03044_ses-E07712_run-1_bp-chest_vp-ap_cr.png</td>\n",
       "      <td>sub-S03044_ses-E07712_run-1_bp-chest_vp-ap_cr.png</td>\n",
       "    </tr>\n",
       "    <tr>\n",
       "      <th>5</th>\n",
       "      <td>'MONOCHROME2'</td>\n",
       "      <td>{'vr': 'CS'}</td>\n",
       "      <td>sub-S03046_ses-E06217_acq-2_run-1_bp-chest_vp-...</td>\n",
       "      <td>sub-S03046_ses-E06217_acq-2_run-1_bp-chest_vp-...</td>\n",
       "      <td>sub-S03046_ses-E06217_acq-2_run-1_bp-chest_vp-...</td>\n",
       "    </tr>\n",
       "    <tr>\n",
       "      <th>6</th>\n",
       "      <td>'MONOCHROME2'</td>\n",
       "      <td>{'vr': 'CS'}</td>\n",
       "      <td>sub-S03046_ses-E06569_run-1_bp-chest_vp-ap_cr....</td>\n",
       "      <td>sub-S03046_ses-E06569_run-1_bp-chest_vp-ap_cr.png</td>\n",
       "      <td>sub-S03046_ses-E06569_run-1_bp-chest_vp-ap_cr.png</td>\n",
       "    </tr>\n",
       "    <tr>\n",
       "      <th>7</th>\n",
       "      <td>'MONOCHROME2'</td>\n",
       "      <td>{'Value': ['PA'], 'vr': 'CS'}</td>\n",
       "      <td>sub-S03046_ses-E06791_run-1_bp-chest_vp-pa_dx....</td>\n",
       "      <td>sub-S03046_ses-E06791_run-1_bp-chest_vp-pa_dx.png</td>\n",
       "      <td>sub-S03046_ses-E06791_run-1_bp-chest_vp-pa_dx.png</td>\n",
       "    </tr>\n",
       "    <tr>\n",
       "      <th>...</th>\n",
       "      <td>...</td>\n",
       "      <td>...</td>\n",
       "      <td>...</td>\n",
       "      <td>...</td>\n",
       "      <td>...</td>\n",
       "    </tr>\n",
       "    <tr>\n",
       "      <th>3844</th>\n",
       "      <td>'MONOCHROME2'</td>\n",
       "      <td>{'Value': ['PA'], 'vr': 'CS'}</td>\n",
       "      <td>sub-S04512_ses-E08959_run-1_bp-chest_vp-pa_cr....</td>\n",
       "      <td>sub-S04512_ses-E08959_run-1_bp-chest_vp-pa_cr.png</td>\n",
       "      <td>sub-S04512_ses-E08959_run-1_bp-chest_vp-pa_cr.png</td>\n",
       "    </tr>\n",
       "    <tr>\n",
       "      <th>3845</th>\n",
       "      <td>'MONOCHROME2'</td>\n",
       "      <td>NA</td>\n",
       "      <td>sub-S04513_ses-E08960_run-1_bp-chest_dx.json</td>\n",
       "      <td>sub-S04513_ses-E08960_run-1_bp-chest_dx.png</td>\n",
       "      <td>sub-S04513_ses-E08960_run-1_bp-chest_dx.png</td>\n",
       "    </tr>\n",
       "    <tr>\n",
       "      <th>3848</th>\n",
       "      <td>'MONOCHROME2'</td>\n",
       "      <td>{'vr': 'CS'}</td>\n",
       "      <td>sub-S04515_ses-E08967_run-1_bp-chest_vp-ap_cr....</td>\n",
       "      <td>sub-S04515_ses-E08967_run-1_bp-chest_vp-ap_cr.png</td>\n",
       "      <td>sub-S04515_ses-E08967_run-1_bp-chest_vp-ap_cr.png</td>\n",
       "    </tr>\n",
       "    <tr>\n",
       "      <th>3859</th>\n",
       "      <td>'MONOCHROME2'</td>\n",
       "      <td>{'vr': 'CS'}</td>\n",
       "      <td>sub-S04521_ses-E08982_run-1_bp-chest_cr.json</td>\n",
       "      <td>sub-S04521_ses-E08982_run-1_bp-chest_cr.png</td>\n",
       "      <td>sub-S04521_ses-E08982_run-1_bp-chest_cr.png</td>\n",
       "    </tr>\n",
       "    <tr>\n",
       "      <th>3860</th>\n",
       "      <td>'MONOCHROME2'</td>\n",
       "      <td>{'Value': ['PA'], 'vr': 'CS'}</td>\n",
       "      <td>sub-S04521_ses-E08982_run-1_bp-chest_vp-pa_cr....</td>\n",
       "      <td>sub-S04521_ses-E08982_run-1_bp-chest_vp-pa_cr.png</td>\n",
       "      <td>sub-S04521_ses-E08982_run-1_bp-chest_vp-pa_cr.png</td>\n",
       "    </tr>\n",
       "  </tbody>\n",
       "</table>\n",
       "<p>1981 rows × 5 columns</p>\n",
       "</div>"
      ],
      "text/plain": [
       "             colour                       00185101  \\\n",
       "0     'MONOCHROME2'                   {'vr': 'CS'}   \n",
       "2     'MONOCHROME2'                   {'vr': 'CS'}   \n",
       "5     'MONOCHROME2'                   {'vr': 'CS'}   \n",
       "6     'MONOCHROME2'                   {'vr': 'CS'}   \n",
       "7     'MONOCHROME2'  {'Value': ['PA'], 'vr': 'CS'}   \n",
       "...             ...                            ...   \n",
       "3844  'MONOCHROME2'  {'Value': ['PA'], 'vr': 'CS'}   \n",
       "3845  'MONOCHROME2'                             NA   \n",
       "3848  'MONOCHROME2'                   {'vr': 'CS'}   \n",
       "3859  'MONOCHROME2'                   {'vr': 'CS'}   \n",
       "3860  'MONOCHROME2'  {'Value': ['PA'], 'vr': 'CS'}   \n",
       "\n",
       "                                             filename_1  \\\n",
       "0     sub-S03044_ses-E06138_run-1_bp-chest_vp-ap_cr....   \n",
       "2     sub-S03044_ses-E07712_run-1_bp-chest_vp-ap_cr....   \n",
       "5     sub-S03046_ses-E06217_acq-2_run-1_bp-chest_vp-...   \n",
       "6     sub-S03046_ses-E06569_run-1_bp-chest_vp-ap_cr....   \n",
       "7     sub-S03046_ses-E06791_run-1_bp-chest_vp-pa_dx....   \n",
       "...                                                 ...   \n",
       "3844  sub-S04512_ses-E08959_run-1_bp-chest_vp-pa_cr....   \n",
       "3845       sub-S04513_ses-E08960_run-1_bp-chest_dx.json   \n",
       "3848  sub-S04515_ses-E08967_run-1_bp-chest_vp-ap_cr....   \n",
       "3859       sub-S04521_ses-E08982_run-1_bp-chest_cr.json   \n",
       "3860  sub-S04521_ses-E08982_run-1_bp-chest_vp-pa_cr....   \n",
       "\n",
       "                                             filename_2  \\\n",
       "0     sub-S03044_ses-E06138_run-1_bp-chest_vp-ap_cr.png   \n",
       "2     sub-S03044_ses-E07712_run-1_bp-chest_vp-ap_cr.png   \n",
       "5     sub-S03046_ses-E06217_acq-2_run-1_bp-chest_vp-...   \n",
       "6     sub-S03046_ses-E06569_run-1_bp-chest_vp-ap_cr.png   \n",
       "7     sub-S03046_ses-E06791_run-1_bp-chest_vp-pa_dx.png   \n",
       "...                                                 ...   \n",
       "3844  sub-S04512_ses-E08959_run-1_bp-chest_vp-pa_cr.png   \n",
       "3845        sub-S04513_ses-E08960_run-1_bp-chest_dx.png   \n",
       "3848  sub-S04515_ses-E08967_run-1_bp-chest_vp-ap_cr.png   \n",
       "3859        sub-S04521_ses-E08982_run-1_bp-chest_cr.png   \n",
       "3860  sub-S04521_ses-E08982_run-1_bp-chest_vp-pa_cr.png   \n",
       "\n",
       "                                               filename  \n",
       "0     sub-S03044_ses-E06138_run-1_bp-chest_vp-ap_cr.png  \n",
       "2     sub-S03044_ses-E07712_run-1_bp-chest_vp-ap_cr.png  \n",
       "5     sub-S03046_ses-E06217_acq-2_run-1_bp-chest_vp-...  \n",
       "6     sub-S03046_ses-E06569_run-1_bp-chest_vp-ap_cr.png  \n",
       "7     sub-S03046_ses-E06791_run-1_bp-chest_vp-pa_dx.png  \n",
       "...                                                 ...  \n",
       "3844  sub-S04512_ses-E08959_run-1_bp-chest_vp-pa_cr.png  \n",
       "3845        sub-S04513_ses-E08960_run-1_bp-chest_dx.png  \n",
       "3848  sub-S04515_ses-E08967_run-1_bp-chest_vp-ap_cr.png  \n",
       "3859        sub-S04521_ses-E08982_run-1_bp-chest_cr.png  \n",
       "3860  sub-S04521_ses-E08982_run-1_bp-chest_vp-pa_cr.png  \n",
       "\n",
       "[1981 rows x 5 columns]"
      ]
     },
     "execution_count": 530,
     "metadata": {},
     "output_type": "execute_result"
    }
   ],
   "source": [
    "dfd"
   ]
  },
  {
   "cell_type": "code",
   "execution_count": 423,
   "metadata": {},
   "outputs": [],
   "source": [
    "img =  'E:/osfstorage-archive/C19_images/'\n"
   ]
  },
  {
   "cell_type": "code",
   "execution_count": 424,
   "metadata": {},
   "outputs": [],
   "source": [
    "#import shutil\n",
    "\n",
    "#i=0\n",
    "#while i < len(file_list):\n",
    "#     shutil.copy(img+file_list[i], 'cpy/')\n",
    "#     i += 1"
   ]
  },
  {
   "cell_type": "markdown",
   "metadata": {},
   "source": [
    "### combine file-list with features"
   ]
  },
  {
   "cell_type": "code",
   "execution_count": 477,
   "metadata": {},
   "outputs": [
    {
     "data": {
      "text/html": [
       "<div>\n",
       "<style scoped>\n",
       "    .dataframe tbody tr th:only-of-type {\n",
       "        vertical-align: middle;\n",
       "    }\n",
       "\n",
       "    .dataframe tbody tr th {\n",
       "        vertical-align: top;\n",
       "    }\n",
       "\n",
       "    .dataframe thead th {\n",
       "        text-align: right;\n",
       "    }\n",
       "</style>\n",
       "<table border=\"1\" class=\"dataframe\">\n",
       "  <thead>\n",
       "    <tr style=\"text-align: right;\">\n",
       "      <th></th>\n",
       "      <th>PatientID</th>\n",
       "      <th>ReportID</th>\n",
       "      <th>Labels</th>\n",
       "      <th>age</th>\n",
       "      <th>gender</th>\n",
       "      <th>modality_dicom</th>\n",
       "      <th>filename</th>\n",
       "      <th>COPDsigns</th>\n",
       "      <th>COVID19</th>\n",
       "      <th>COVID19uncertain</th>\n",
       "      <th>...</th>\n",
       "      <th>vascularredistribution</th>\n",
       "      <th>ventriculoperitonealdraintube</th>\n",
       "      <th>vertebralanteriorcompression</th>\n",
       "      <th>vertebralcompression</th>\n",
       "      <th>vertebraldegenerativechanges</th>\n",
       "      <th>vertebralfracture</th>\n",
       "      <th>viralpneumonia</th>\n",
       "      <th>volumeloss</th>\n",
       "      <th>new</th>\n",
       "      <th>file_prefix</th>\n",
       "    </tr>\n",
       "  </thead>\n",
       "  <tbody>\n",
       "    <tr>\n",
       "      <th>0</th>\n",
       "      <td>sub-S03968</td>\n",
       "      <td>ses-E08123</td>\n",
       "      <td>['infiltrates'\\t 'COVID 19']</td>\n",
       "      <td>[65]</td>\n",
       "      <td>M</td>\n",
       "      <td>['DX']</td>\n",
       "      <td>sub-S03968_ses-E08123_bp-chest_run-1_acq-1_vp-...</td>\n",
       "      <td>0</td>\n",
       "      <td>1</td>\n",
       "      <td>0</td>\n",
       "      <td>...</td>\n",
       "      <td>0</td>\n",
       "      <td>0</td>\n",
       "      <td>0</td>\n",
       "      <td>0</td>\n",
       "      <td>0</td>\n",
       "      <td>0</td>\n",
       "      <td>0</td>\n",
       "      <td>0</td>\n",
       "      <td>0</td>\n",
       "      <td>sub-S03968_ses-E08123</td>\n",
       "    </tr>\n",
       "  </tbody>\n",
       "</table>\n",
       "<p>1 rows × 155 columns</p>\n",
       "</div>"
      ],
      "text/plain": [
       "    PatientID    ReportID                        Labels   age gender  \\\n",
       "0  sub-S03968  ses-E08123  ['infiltrates'\\t 'COVID 19']  [65]      M   \n",
       "\n",
       "  modality_dicom                                           filename  \\\n",
       "0         ['DX']  sub-S03968_ses-E08123_bp-chest_run-1_acq-1_vp-...   \n",
       "\n",
       "   COPDsigns  COVID19  COVID19uncertain  ...  vascularredistribution  \\\n",
       "0          0        1                 0  ...                       0   \n",
       "\n",
       "   ventriculoperitonealdraintube  vertebralanteriorcompression  \\\n",
       "0                              0                             0   \n",
       "\n",
       "   vertebralcompression  vertebraldegenerativechanges  vertebralfracture  \\\n",
       "0                     0                             0                  0   \n",
       "\n",
       "   viralpneumonia  volumeloss  new            file_prefix  \n",
       "0               0           0    0  sub-S03968_ses-E08123  \n",
       "\n",
       "[1 rows x 155 columns]"
      ]
     },
     "execution_count": 477,
     "metadata": {},
     "output_type": "execute_result"
    }
   ],
   "source": [
    "#features\n",
    "df3.head(1)"
   ]
  },
  {
   "cell_type": "code",
   "execution_count": 478,
   "metadata": {},
   "outputs": [
    {
     "data": {
      "text/html": [
       "<div>\n",
       "<style scoped>\n",
       "    .dataframe tbody tr th:only-of-type {\n",
       "        vertical-align: middle;\n",
       "    }\n",
       "\n",
       "    .dataframe tbody tr th {\n",
       "        vertical-align: top;\n",
       "    }\n",
       "\n",
       "    .dataframe thead th {\n",
       "        text-align: right;\n",
       "    }\n",
       "</style>\n",
       "<table border=\"1\" class=\"dataframe\">\n",
       "  <thead>\n",
       "    <tr style=\"text-align: right;\">\n",
       "      <th></th>\n",
       "      <th>colour</th>\n",
       "      <th>00185101</th>\n",
       "      <th>filename_1</th>\n",
       "      <th>filename_2</th>\n",
       "      <th>filename</th>\n",
       "    </tr>\n",
       "  </thead>\n",
       "  <tbody>\n",
       "    <tr>\n",
       "      <th>0</th>\n",
       "      <td>'MONOCHROME2'</td>\n",
       "      <td>{'vr': 'CS'}</td>\n",
       "      <td>sub-S03044_ses-E06138_run-1_bp-chest_vp-ap_cr....</td>\n",
       "      <td>sub-S03044_ses-E06138_run-1_bp-chest_vp-ap_cr.png</td>\n",
       "      <td>sub-S03044_ses-E06138_run-1_bp-chest_vp-ap_cr.png</td>\n",
       "    </tr>\n",
       "  </tbody>\n",
       "</table>\n",
       "</div>"
      ],
      "text/plain": [
       "          colour      00185101  \\\n",
       "0  'MONOCHROME2'  {'vr': 'CS'}   \n",
       "\n",
       "                                          filename_1  \\\n",
       "0  sub-S03044_ses-E06138_run-1_bp-chest_vp-ap_cr....   \n",
       "\n",
       "                                          filename_2  \\\n",
       "0  sub-S03044_ses-E06138_run-1_bp-chest_vp-ap_cr.png   \n",
       "\n",
       "                                            filename  \n",
       "0  sub-S03044_ses-E06138_run-1_bp-chest_vp-ap_cr.png  "
      ]
     },
     "execution_count": 478,
     "metadata": {},
     "output_type": "execute_result"
    }
   ],
   "source": [
    "#file-list\n",
    "dfd2= dfd.reset_index(drop=True)\n",
    "dfd2.head(1)"
   ]
  },
  {
   "cell_type": "code",
   "execution_count": 479,
   "metadata": {},
   "outputs": [],
   "source": [
    "dfd2['file_prefix'] = [x[0:21] for x in dfd2['filename']]\n",
    "df3['file_prefix'] = [x[0:21] for x in df3['filename']]\n"
   ]
  },
  {
   "cell_type": "code",
   "execution_count": 490,
   "metadata": {},
   "outputs": [],
   "source": [
    "#match based on file_prefix\n",
    "import copy\n",
    "required_files = copy.deepcopy(dfd2)  \n",
    "feature_data = copy.deepcopy(df3)  \n",
    "required_files.drop(['filename_1','filename_2','filename'],axis=1,inplace=True)"
   ]
  },
  {
   "cell_type": "code",
   "execution_count": 56,
   "metadata": {},
   "outputs": [],
   "source": [
    "import pandas as pd\n",
    "i_list = pd.DataFrame(list(zip(img_list)), \n",
    "               columns =['img_list'])"
   ]
  },
  {
   "cell_type": "code",
   "execution_count": 58,
   "metadata": {},
   "outputs": [],
   "source": [
    "i_list.to_csv('E:\\\\i_list.csv')\n"
   ]
  }
 ],
 "metadata": {
  "kernelspec": {
   "display_name": "Python 3",
   "language": "python",
   "name": "python3"
  },
  "language_info": {
   "codemirror_mode": {
    "name": "ipython",
    "version": 3
   },
   "file_extension": ".py",
   "mimetype": "text/x-python",
   "name": "python",
   "nbconvert_exporter": "python",
   "pygments_lexer": "ipython3",
   "version": "3.6.9"
  }
 },
 "nbformat": 4,
 "nbformat_minor": 2
}
