{
 "cells": [
  {
   "cell_type": "markdown",
   "metadata": {},
   "source": [
    "## Multi-Label Chest X-Ray Pathology Detection of COVID-19 with Transfer Learning\n",
    "Colm Clancy : 01365631 "
   ]
  },
  {
   "cell_type": "markdown",
   "metadata": {},
   "source": [
    "\n",
    "### Metadata Extraction and Dataset Creation"
   ]
  },
  {
   "cell_type": "code",
   "execution_count": null,
   "metadata": {},
   "outputs": [],
   "source": [
    "'''\n",
    "#load padchest file list\n",
    "rootdir_padchest = 'E:\\\\osfstorage-archive\\\\all_images\\\\'\n",
    "E:\\BIMCV-PadChest-FULL\\0\n",
    "p_list = list()\n",
    "import os\n",
    "for root, dirs, files in os.walk(rootdir_padchest):\n",
    "    for name in files:\n",
    "        if name.endswith((\".json\")) and name.startswith((\"sub\")) :\n",
    "            p_list.append(name)\n",
    "'''"
   ]
  },
  {
   "cell_type": "code",
   "execution_count": null,
   "metadata": {},
   "outputs": [],
   "source": [
    "##### copy selected images to directory\n",
    "#dir_1 =  'E:/osfstorage-archive/C19_images/'\n",
    "#file_list = list(metadata_dummies.filename)\n",
    "import shutil\n",
    "'''\n",
    "i=0\n",
    "while i < len(file_list):\n",
    "          shutil.copy(dir_1+file_list[i], 'E:/osfstorage-archive/C19_images/final/')\n",
    "          i += 1\n",
    "\n",
    "\n",
    "dir_1_pc2 =  'E:/BIMCV-PadChest-FULL/0/'\n",
    "file_list_pc2 = list(pc2.filename)\n",
    "\n",
    "i=0\n",
    "while i < len(file_list_pc2):\n",
    "          shutil.copy(dir_1_pc2+file_list_pc2[i], 'E:/osfstorage-archive/C19_images/final/')\n",
    "          i += 1\n",
    "\n",
    "'''"
   ]
  },
  {
   "cell_type": "markdown",
   "metadata": {},
   "source": [
    "### Load BIMCV COVID-19+ metadata from BIMCV_metadata noteebook"
   ]
  },
  {
   "cell_type": "code",
   "execution_count": 2,
   "metadata": {},
   "outputs": [],
   "source": [
    "import pandas as pd\n",
    "import os\n",
    "import json\n",
    "#import warnings\n",
    "#warnings.filterwarnings('ignore')"
   ]
  },
  {
   "cell_type": "code",
   "execution_count": 1,
   "metadata": {},
   "outputs": [
    {
     "ename": "NameError",
     "evalue": "name 'pd' is not defined",
     "output_type": "error",
     "traceback": [
      "\u001b[1;31m---------------------------------------------------------------------------\u001b[0m",
      "\u001b[1;31mNameError\u001b[0m                                 Traceback (most recent call last)",
      "\u001b[1;32m<ipython-input-1-0294614545e6>\u001b[0m in \u001b[0;36m<module>\u001b[1;34m\u001b[0m\n\u001b[0;32m      1\u001b[0m \u001b[1;31m#load list of manually checked files : BIMCV Dataset filtered earlier\u001b[0m\u001b[1;33m\u001b[0m\u001b[1;33m\u001b[0m\u001b[1;33m\u001b[0m\u001b[0m\n\u001b[1;32m----> 2\u001b[1;33m \u001b[0mmanual\u001b[0m \u001b[1;33m=\u001b[0m \u001b[0mpd\u001b[0m\u001b[1;33m.\u001b[0m\u001b[0mread_csv\u001b[0m\u001b[1;33m(\u001b[0m\u001b[1;34m'E:\\\\manual_list.csv'\u001b[0m\u001b[1;33m)\u001b[0m\u001b[1;33m\u001b[0m\u001b[1;33m\u001b[0m\u001b[0m\n\u001b[0m\u001b[0;32m      3\u001b[0m \u001b[0mmanual\u001b[0m\u001b[1;33m.\u001b[0m\u001b[0mhead\u001b[0m\u001b[1;33m(\u001b[0m\u001b[1;36m1\u001b[0m\u001b[1;33m)\u001b[0m\u001b[1;33m\u001b[0m\u001b[1;33m\u001b[0m\u001b[0m\n",
      "\u001b[1;31mNameError\u001b[0m: name 'pd' is not defined"
     ]
    }
   ],
   "source": [
    "#load list of manually checked files : BIMCV Dataset filtered earlier\n",
    "manual = pd.read_csv('E:\\\\manual_list.csv')\n",
    "manual.head(1)"
   ]
  },
  {
   "cell_type": "code",
   "execution_count": null,
   "metadata": {},
   "outputs": [],
   "source": [
    "#load json file list\n",
    "rootdir = 'E:\\\\osfstorage-archive\\\\all_images\\\\'\n",
    "j_list = list()\n",
    "import os\n",
    "for root, dirs, files in os.walk(rootdir):\n",
    "    for name in files:\n",
    "        if name.endswith((\".json\")) and name.startswith((\"sub\")) :\n",
    "            j_list.append(name)"
   ]
  },
  {
   "cell_type": "code",
   "execution_count": null,
   "metadata": {},
   "outputs": [],
   "source": [
    "#add json files to json list\n",
    "dallas = []\n",
    "\n",
    "for x in j_list:\n",
    "        with open('{}{}'.format(rootdir, x)) as i:\n",
    "            dallas.append(json.load(i))"
   ]
  },
  {
   "cell_type": "code",
   "execution_count": null,
   "metadata": {},
   "outputs": [],
   "source": [
    "#extract requied fields from json metadata files \n",
    "colour = []\n",
    "position = []\n",
    "\n",
    "for x in range(len(dallas)):\n",
    "    try:\n",
    "        colour.append(dallas[x]['00280004']['Value'])\n",
    "        position.append(dallas[x]['00185101'])\n",
    "    except KeyError:\n",
    "         position.append('NA')\n",
    "\n",
    "#create json_metadata dataframe            \n",
    "import pandas as pd\n",
    "json_metadata = pd.DataFrame(list(zip(colour,position,j_list)), \n",
    "               columns =['colour2','position','filename_json']) \n"
   ]
  },
  {
   "cell_type": "code",
   "execution_count": null,
   "metadata": {},
   "outputs": [],
   "source": [
    "json_metadata.to_csv('E:/json_metadata.csv')"
   ]
  },
  {
   "cell_type": "code",
   "execution_count": null,
   "metadata": {},
   "outputs": [],
   "source": [
    "json_metadata.to_csv('json_metadata.csv')"
   ]
  },
  {
   "cell_type": "code",
   "execution_count": null,
   "metadata": {},
   "outputs": [],
   "source": [
    "len(j_list)"
   ]
  },
  {
   "cell_type": "code",
   "execution_count": null,
   "metadata": {},
   "outputs": [],
   "source": [
    "json_metadata.head(1)"
   ]
  },
  {
   "cell_type": "code",
   "execution_count": null,
   "metadata": {},
   "outputs": [],
   "source": [
    "#replace .json with .png to help match\n",
    "json_metadata['filename']= json_metadata['filename_json'].str.replace(r'.json', '.png')\n",
    "\n",
    "#remove brackets from monochrome\n",
    "json_metadata['colour2'] = json_metadata['colour2'].astype(str)\n",
    "json_metadata['colour2'] = json_metadata['colour2'].str.replace(\"[\",\"\")\n",
    "json_metadata['colour2'] = json_metadata['colour2'].str.replace(\"]\",\"\")"
   ]
  },
  {
   "cell_type": "code",
   "execution_count": null,
   "metadata": {},
   "outputs": [],
   "source": [
    "json_metadata[json_metadata.filename == 'sub-S03085_ses-E06565_run-1_bp-chest_vp-ap_cr.png']"
   ]
  },
  {
   "cell_type": "code",
   "execution_count": null,
   "metadata": {},
   "outputs": [],
   "source": [
    "json_metadata.head(1)"
   ]
  },
  {
   "cell_type": "code",
   "execution_count": 4,
   "metadata": {},
   "outputs": [
    {
     "data": {
      "text/plain": [
       "(2477, 7)"
      ]
     },
     "execution_count": 4,
     "metadata": {},
     "output_type": "execute_result"
    }
   ],
   "source": [
    "manual = manual[(manual.view == 'front')]\n",
    "manual.shape\n"
   ]
  },
  {
   "cell_type": "code",
   "execution_count": 5,
   "metadata": {},
   "outputs": [
    {
     "data": {
      "text/plain": [
       "'\\nman_and_json  = pd.merge(manual,json_metadata, left_on=\\'img_list\\', right_on=\\'filename\\', how = \\'left\\' )\\nman_and_json_filter = man_and_json[(man_and_json.view == \\'front\\')]\\n#man_and_json_filter = man_and_json[(man_and_json.colour == \"\\'MONOCHROME2\\'\") & (man_and_json.view == \\'front\\')]\\n\\nman_and_json_filter.head(6)\\n'"
      ]
     },
     "execution_count": 5,
     "metadata": {},
     "output_type": "execute_result"
    }
   ],
   "source": [
    "# no longer need json file data?\n",
    "'''\n",
    "man_and_json  = pd.merge(manual,json_metadata, left_on='img_list', right_on='filename', how = 'left' )\n",
    "man_and_json_filter = man_and_json[(man_and_json.view == 'front')]\n",
    "#man_and_json_filter = man_and_json[(man_and_json.colour == \"'MONOCHROME2'\") & (man_and_json.view == 'front')]\n",
    "\n",
    "man_and_json_filter.head(6)\n",
    "'''"
   ]
  },
  {
   "cell_type": "code",
   "execution_count": 6,
   "metadata": {},
   "outputs": [],
   "source": [
    "#man_and_json_filter.head(1)\n",
    "#man_and_json_filter[man_and_json_filter.filename == 'sub-S03085_ses-E06565_run-1_bp-chest_vp-ap_cr.png']"
   ]
  },
  {
   "cell_type": "code",
   "execution_count": 7,
   "metadata": {},
   "outputs": [],
   "source": [
    "# load label metadata\n",
    "labels =  pd.read_csv('e:\\\\osfstorage-archive\\\\all_images\\labels_covid19_posi.tsv', sep = '\\t',engine='python')\n",
    "labels.drop(columns=['Unnamed: 0', 'Report','Localizations','LabelsLocalizationsBySentence','labelCUIS','LocalizationsCUIS'],inplace=True)\n",
    "labels.drop_duplicates(keep='first',inplace=True) \n"
   ]
  },
  {
   "cell_type": "code",
   "execution_count": 8,
   "metadata": {},
   "outputs": [
    {
     "data": {
      "text/plain": [
       "(2434, 3)"
      ]
     },
     "execution_count": 8,
     "metadata": {},
     "output_type": "execute_result"
    }
   ],
   "source": [
    "#2404  2465\n",
    "#31\n",
    "#61\n",
    "#labels.head(1)\n",
    "#labels[labels.ReportID == 'ses-E06565']\n",
    "labels.shape"
   ]
  },
  {
   "cell_type": "code",
   "execution_count": 9,
   "metadata": {},
   "outputs": [],
   "source": [
    "# join label data to file list\n",
    "#data_1  = pd.merge(man_and_json_filter,labels, left_on='ses', right_on='ReportID', how = 'left' )\n",
    "data_1  = pd.merge(manual,labels, left_on='ses', right_on='ReportID', how = 'left' )"
   ]
  },
  {
   "cell_type": "code",
   "execution_count": 10,
   "metadata": {},
   "outputs": [],
   "source": [
    "metadata = data_1[~data_1['ReportID'].isna()]\n",
    "#102 images with no report"
   ]
  },
  {
   "cell_type": "code",
   "execution_count": 11,
   "metadata": {},
   "outputs": [
    {
     "data": {
      "text/html": [
       "<div>\n",
       "<style scoped>\n",
       "    .dataframe tbody tr th:only-of-type {\n",
       "        vertical-align: middle;\n",
       "    }\n",
       "\n",
       "    .dataframe tbody tr th {\n",
       "        vertical-align: top;\n",
       "    }\n",
       "\n",
       "    .dataframe thead th {\n",
       "        text-align: right;\n",
       "    }\n",
       "</style>\n",
       "<table border=\"1\" class=\"dataframe\">\n",
       "  <thead>\n",
       "    <tr style=\"text-align: right;\">\n",
       "      <th></th>\n",
       "      <th>img_list</th>\n",
       "      <th>view</th>\n",
       "      <th>colour</th>\n",
       "      <th>sub</th>\n",
       "      <th>ses</th>\n",
       "      <th>check_colour</th>\n",
       "      <th>check_view</th>\n",
       "      <th>PatientID</th>\n",
       "      <th>ReportID</th>\n",
       "      <th>Labels</th>\n",
       "    </tr>\n",
       "  </thead>\n",
       "  <tbody>\n",
       "    <tr>\n",
       "      <th>0</th>\n",
       "      <td>sub-S03044_ses-E06138_run-1_bp-chest_vp-ap_cr.png</td>\n",
       "      <td>front</td>\n",
       "      <td>'MONOCHROME2'</td>\n",
       "      <td>sub-S03044</td>\n",
       "      <td>ses-E06138</td>\n",
       "      <td>'MONOCHROME2'</td>\n",
       "      <td>front</td>\n",
       "      <td>sub-S03044</td>\n",
       "      <td>ses-E06138</td>\n",
       "      <td>['endotracheal tube'\\t 'central venous cathete...</td>\n",
       "    </tr>\n",
       "    <tr>\n",
       "      <th>1</th>\n",
       "      <td>sub-S03044_ses-E06790_run-1_bp-chest_vp-pa_dx.png</td>\n",
       "      <td>front</td>\n",
       "      <td>'MONOCHROME1'</td>\n",
       "      <td>sub-S03044</td>\n",
       "      <td>ses-E06790</td>\n",
       "      <td>'MONOCHROME1'</td>\n",
       "      <td>front</td>\n",
       "      <td>sub-S03044</td>\n",
       "      <td>ses-E06790</td>\n",
       "      <td>['chronic changes'\\t 'increased density'\\t ' p...</td>\n",
       "    </tr>\n",
       "    <tr>\n",
       "      <th>2</th>\n",
       "      <td>sub-S03044_ses-E07712_run-1_bp-chest_vp-ap_cr.png</td>\n",
       "      <td>front</td>\n",
       "      <td>'MONOCHROME2'</td>\n",
       "      <td>sub-S03044</td>\n",
       "      <td>ses-E07712</td>\n",
       "      <td>'MONOCHROME2'</td>\n",
       "      <td>front</td>\n",
       "      <td>sub-S03044</td>\n",
       "      <td>ses-E07712</td>\n",
       "      <td>['unchanged'\\t 'central venous catheter via su...</td>\n",
       "    </tr>\n",
       "    <tr>\n",
       "      <th>3</th>\n",
       "      <td>sub-S03045_ses-E06139_run-1_bp-chest_vp-ap_dx.png</td>\n",
       "      <td>front</td>\n",
       "      <td>'MONOCHROME1'</td>\n",
       "      <td>sub-S03045</td>\n",
       "      <td>ses-E06139</td>\n",
       "      <td>'MONOCHROME1'</td>\n",
       "      <td>front</td>\n",
       "      <td>sub-S03045</td>\n",
       "      <td>ses-E06139</td>\n",
       "      <td>['interstitial pattern'\\t 'cardiomegaly']</td>\n",
       "    </tr>\n",
       "    <tr>\n",
       "      <th>4</th>\n",
       "      <td>sub-S03045_ses-E06910_acq-1_run-1_bp-chest_vp-...</td>\n",
       "      <td>front</td>\n",
       "      <td>'MONOCHROME2'</td>\n",
       "      <td>sub-S03045</td>\n",
       "      <td>ses-E06910</td>\n",
       "      <td>2</td>\n",
       "      <td>front</td>\n",
       "      <td>sub-S03045</td>\n",
       "      <td>ses-E06910</td>\n",
       "      <td>['atypical pneumonia'\\t ' consolidation'\\t ' p...</td>\n",
       "    </tr>\n",
       "  </tbody>\n",
       "</table>\n",
       "</div>"
      ],
      "text/plain": [
       "                                            img_list   view         colour  \\\n",
       "0  sub-S03044_ses-E06138_run-1_bp-chest_vp-ap_cr.png  front  'MONOCHROME2'   \n",
       "1  sub-S03044_ses-E06790_run-1_bp-chest_vp-pa_dx.png  front  'MONOCHROME1'   \n",
       "2  sub-S03044_ses-E07712_run-1_bp-chest_vp-ap_cr.png  front  'MONOCHROME2'   \n",
       "3  sub-S03045_ses-E06139_run-1_bp-chest_vp-ap_dx.png  front  'MONOCHROME1'   \n",
       "4  sub-S03045_ses-E06910_acq-1_run-1_bp-chest_vp-...  front  'MONOCHROME2'   \n",
       "\n",
       "          sub         ses   check_colour check_view   PatientID    ReportID  \\\n",
       "0  sub-S03044  ses-E06138  'MONOCHROME2'      front  sub-S03044  ses-E06138   \n",
       "1  sub-S03044  ses-E06790  'MONOCHROME1'      front  sub-S03044  ses-E06790   \n",
       "2  sub-S03044  ses-E07712  'MONOCHROME2'      front  sub-S03044  ses-E07712   \n",
       "3  sub-S03045  ses-E06139  'MONOCHROME1'      front  sub-S03045  ses-E06139   \n",
       "4  sub-S03045  ses-E06910              2      front  sub-S03045  ses-E06910   \n",
       "\n",
       "                                              Labels  \n",
       "0  ['endotracheal tube'\\t 'central venous cathete...  \n",
       "1  ['chronic changes'\\t 'increased density'\\t ' p...  \n",
       "2  ['unchanged'\\t 'central venous catheter via su...  \n",
       "3          ['interstitial pattern'\\t 'cardiomegaly']  \n",
       "4  ['atypical pneumonia'\\t ' consolidation'\\t ' p...  "
      ]
     },
     "execution_count": 11,
     "metadata": {},
     "output_type": "execute_result"
    }
   ],
   "source": [
    "#data_1.drop(columns=['img_list','view','colour','position','filename_json','filename','sub','ses'],inplace=True)\n",
    "metadata.head()"
   ]
  },
  {
   "cell_type": "markdown",
   "metadata": {},
   "source": [
    "### Load padchest metadata"
   ]
  },
  {
   "cell_type": "code",
   "execution_count": 12,
   "metadata": {},
   "outputs": [
    {
     "name": "stderr",
     "output_type": "stream",
     "text": [
      "C:\\Users\\colmc\\Anaconda3\\envs\\new_env\\lib\\site-packages\\pandas\\core\\frame.py:3997: SettingWithCopyWarning: \n",
      "A value is trying to be set on a copy of a slice from a DataFrame\n",
      "\n",
      "See the caveats in the documentation: https://pandas.pydata.org/pandas-docs/stable/user_guide/indexing.html#returning-a-view-versus-a-copy\n",
      "  errors=errors,\n",
      "C:\\Users\\colmc\\Anaconda3\\envs\\new_env\\lib\\site-packages\\pandas\\core\\frame.py:4133: SettingWithCopyWarning: \n",
      "A value is trying to be set on a copy of a slice from a DataFrame\n",
      "\n",
      "See the caveats in the documentation: https://pandas.pydata.org/pandas-docs/stable/user_guide/indexing.html#returning-a-view-versus-a-copy\n",
      "  errors=errors,\n"
     ]
    }
   ],
   "source": [
    "#load padchest data\n",
    "pc = 'E:\\\\BIMCV-PadChest-FULL\\\\PADCHEST_chest_x_ray_images_labels_160K_01.02.19.csv\\PADCHEST_chest_x_ray_images_labels_160K_01.02.19.csv'\n",
    "padchest =  pd.read_csv(pc, sep = ',',engine='python')\n",
    "padchest['StudyDate_DICOM'] = padchest['StudyDate_DICOM'].astype(str).str[0:4].astype(int)\n",
    "padchest['age'] = padchest.StudyDate_DICOM - padchest.PatientBirth\n",
    "padchest = padchest[padchest['PatientBirth'].notna()]\n",
    "\n",
    "\n",
    "padchest = padchest[['ImageID','ImageDir','age','StudyID','PatientID','PatientSex_DICOM','Projection','Labels']]\n",
    "\n",
    "#pc2 = padchest[padchest.ImageDir.le(0) & padchest.Projection.eq('PA') ]\n",
    "pc2 = padchest[padchest.ImageDir.le(27) & padchest.Projection.isin(['PA','AP','AP_horizontal'])]\n",
    "\n",
    "pc2.drop(['Projection','ImageDir'], axis=1, inplace=True)\n",
    "pc2.rename(columns={'ImageID':'filename','StudyID':'ReportID','PatientSex_DICOM':'sex' }, inplace=True)\n",
    "cn = ['filename','PatientID','ReportID','age','sex','Labels']\n",
    "pc2 = pc2.reindex(columns=cn)"
   ]
  },
  {
   "cell_type": "code",
   "execution_count": 13,
   "metadata": {},
   "outputs": [
    {
     "data": {
      "text/plain": [
       "(58590, 6)"
      ]
     },
     "execution_count": 13,
     "metadata": {},
     "output_type": "execute_result"
    }
   ],
   "source": [
    "#pc2 = padchest[padchest.age.qe(54)\n",
    "#padchest.age=84.0\n",
    "pc2.shape"
   ]
  },
  {
   "cell_type": "code",
   "execution_count": 14,
   "metadata": {},
   "outputs": [
    {
     "data": {
      "text/plain": [
       "1145"
      ]
     },
     "execution_count": 14,
     "metadata": {},
     "output_type": "execute_result"
    }
   ],
   "source": [
    "24384-23239"
   ]
  },
  {
   "cell_type": "code",
   "execution_count": 15,
   "metadata": {},
   "outputs": [
    {
     "data": {
      "text/html": [
       "<div>\n",
       "<style scoped>\n",
       "    .dataframe tbody tr th:only-of-type {\n",
       "        vertical-align: middle;\n",
       "    }\n",
       "\n",
       "    .dataframe tbody tr th {\n",
       "        vertical-align: top;\n",
       "    }\n",
       "\n",
       "    .dataframe thead th {\n",
       "        text-align: right;\n",
       "    }\n",
       "</style>\n",
       "<table border=\"1\" class=\"dataframe\">\n",
       "  <thead>\n",
       "    <tr style=\"text-align: right;\">\n",
       "      <th></th>\n",
       "      <th>PatientID</th>\n",
       "      <th>modality_dicom</th>\n",
       "      <th>body_parts</th>\n",
       "      <th>age</th>\n",
       "      <th>gender</th>\n",
       "    </tr>\n",
       "  </thead>\n",
       "  <tbody>\n",
       "    <tr>\n",
       "      <th>0</th>\n",
       "      <td>sub-S03852</td>\n",
       "      <td>['CR']</td>\n",
       "      <td>[['CHEST']]</td>\n",
       "      <td>85</td>\n",
       "      <td>M</td>\n",
       "    </tr>\n",
       "  </tbody>\n",
       "</table>\n",
       "</div>"
      ],
      "text/plain": [
       "    PatientID modality_dicom   body_parts age gender\n",
       "0  sub-S03852         ['CR']  [['CHEST']]  85      M"
      ]
     },
     "execution_count": 15,
     "metadata": {},
     "output_type": "execute_result"
    }
   ],
   "source": [
    "#load age/sex\n",
    "participants =  pd.read_csv('e:\\\\osfstorage-archive\\\\all_images\\participants.tsv', sep = '\\t',engine='python')\n",
    "participants.rename(columns={'participant':'PatientID'}, inplace=True)\n",
    "participants['age'] = participants['age'].str.replace(\"[\",\"\")\n",
    "participants['age'] = participants['age'].str.replace(\"]\",\"\")\n",
    "participants.age = participants.age.str[0:2]\n",
    "participants.head(1)"
   ]
  },
  {
   "cell_type": "code",
   "execution_count": 16,
   "metadata": {},
   "outputs": [],
   "source": [
    "m2 = pd.merge(metadata,participants[['PatientID','age','gender']],on='PatientID', how='left')"
   ]
  },
  {
   "cell_type": "code",
   "execution_count": 17,
   "metadata": {},
   "outputs": [
    {
     "data": {
      "text/html": [
       "<div>\n",
       "<style scoped>\n",
       "    .dataframe tbody tr th:only-of-type {\n",
       "        vertical-align: middle;\n",
       "    }\n",
       "\n",
       "    .dataframe tbody tr th {\n",
       "        vertical-align: top;\n",
       "    }\n",
       "\n",
       "    .dataframe thead th {\n",
       "        text-align: right;\n",
       "    }\n",
       "</style>\n",
       "<table border=\"1\" class=\"dataframe\">\n",
       "  <thead>\n",
       "    <tr style=\"text-align: right;\">\n",
       "      <th></th>\n",
       "      <th>img_list</th>\n",
       "      <th>view</th>\n",
       "      <th>colour</th>\n",
       "      <th>sub</th>\n",
       "      <th>ses</th>\n",
       "      <th>check_colour</th>\n",
       "      <th>check_view</th>\n",
       "      <th>PatientID</th>\n",
       "      <th>ReportID</th>\n",
       "      <th>Labels</th>\n",
       "      <th>age</th>\n",
       "      <th>gender</th>\n",
       "    </tr>\n",
       "  </thead>\n",
       "  <tbody>\n",
       "    <tr>\n",
       "      <th>0</th>\n",
       "      <td>sub-S03044_ses-E06138_run-1_bp-chest_vp-ap_cr.png</td>\n",
       "      <td>front</td>\n",
       "      <td>'MONOCHROME2'</td>\n",
       "      <td>sub-S03044</td>\n",
       "      <td>ses-E06138</td>\n",
       "      <td>'MONOCHROME2'</td>\n",
       "      <td>front</td>\n",
       "      <td>sub-S03044</td>\n",
       "      <td>ses-E06138</td>\n",
       "      <td>['endotracheal tube'\\t 'central venous cathete...</td>\n",
       "      <td>67</td>\n",
       "      <td>M</td>\n",
       "    </tr>\n",
       "  </tbody>\n",
       "</table>\n",
       "</div>"
      ],
      "text/plain": [
       "                                            img_list   view         colour  \\\n",
       "0  sub-S03044_ses-E06138_run-1_bp-chest_vp-ap_cr.png  front  'MONOCHROME2'   \n",
       "\n",
       "          sub         ses   check_colour check_view   PatientID    ReportID  \\\n",
       "0  sub-S03044  ses-E06138  'MONOCHROME2'      front  sub-S03044  ses-E06138   \n",
       "\n",
       "                                              Labels age gender  \n",
       "0  ['endotracheal tube'\\t 'central venous cathete...  67      M  "
      ]
     },
     "execution_count": 17,
     "metadata": {},
     "output_type": "execute_result"
    }
   ],
   "source": [
    "m2.head(1)"
   ]
  },
  {
   "cell_type": "code",
   "execution_count": 18,
   "metadata": {},
   "outputs": [],
   "source": [
    "#m2['img_list']= m2['img_list'].str.replace(r'.png', '.jpg')\n"
   ]
  },
  {
   "cell_type": "code",
   "execution_count": 19,
   "metadata": {},
   "outputs": [],
   "source": [
    "m2.drop(['view','sub','view','colour','sub','ses','check_colour','colour','check_view'], axis=1, inplace=True)\n",
    "m2.rename(columns={'gender':'sex', 'img_list':'filename'}, inplace=True)"
   ]
  },
  {
   "cell_type": "code",
   "execution_count": 20,
   "metadata": {},
   "outputs": [
    {
     "data": {
      "text/html": [
       "<div>\n",
       "<style scoped>\n",
       "    .dataframe tbody tr th:only-of-type {\n",
       "        vertical-align: middle;\n",
       "    }\n",
       "\n",
       "    .dataframe tbody tr th {\n",
       "        vertical-align: top;\n",
       "    }\n",
       "\n",
       "    .dataframe thead th {\n",
       "        text-align: right;\n",
       "    }\n",
       "</style>\n",
       "<table border=\"1\" class=\"dataframe\">\n",
       "  <thead>\n",
       "    <tr style=\"text-align: right;\">\n",
       "      <th></th>\n",
       "      <th>filename</th>\n",
       "      <th>PatientID</th>\n",
       "      <th>ReportID</th>\n",
       "      <th>Labels</th>\n",
       "      <th>age</th>\n",
       "      <th>sex</th>\n",
       "    </tr>\n",
       "  </thead>\n",
       "  <tbody>\n",
       "    <tr>\n",
       "      <th>0</th>\n",
       "      <td>sub-S03044_ses-E06138_run-1_bp-chest_vp-ap_cr.png</td>\n",
       "      <td>sub-S03044</td>\n",
       "      <td>ses-E06138</td>\n",
       "      <td>['endotracheal tube'\\t 'central venous cathete...</td>\n",
       "      <td>67</td>\n",
       "      <td>M</td>\n",
       "    </tr>\n",
       "    <tr>\n",
       "      <th>1</th>\n",
       "      <td>sub-S03044_ses-E06790_run-1_bp-chest_vp-pa_dx.png</td>\n",
       "      <td>sub-S03044</td>\n",
       "      <td>ses-E06790</td>\n",
       "      <td>['chronic changes'\\t 'increased density'\\t ' p...</td>\n",
       "      <td>67</td>\n",
       "      <td>M</td>\n",
       "    </tr>\n",
       "    <tr>\n",
       "      <th>2</th>\n",
       "      <td>sub-S03044_ses-E07712_run-1_bp-chest_vp-ap_cr.png</td>\n",
       "      <td>sub-S03044</td>\n",
       "      <td>ses-E07712</td>\n",
       "      <td>['unchanged'\\t 'central venous catheter via su...</td>\n",
       "      <td>67</td>\n",
       "      <td>M</td>\n",
       "    </tr>\n",
       "    <tr>\n",
       "      <th>3</th>\n",
       "      <td>sub-S03045_ses-E06139_run-1_bp-chest_vp-ap_dx.png</td>\n",
       "      <td>sub-S03045</td>\n",
       "      <td>ses-E06139</td>\n",
       "      <td>['interstitial pattern'\\t 'cardiomegaly']</td>\n",
       "      <td>66</td>\n",
       "      <td>M</td>\n",
       "    </tr>\n",
       "    <tr>\n",
       "      <th>4</th>\n",
       "      <td>sub-S03045_ses-E06910_acq-1_run-1_bp-chest_vp-...</td>\n",
       "      <td>sub-S03045</td>\n",
       "      <td>ses-E06910</td>\n",
       "      <td>['atypical pneumonia'\\t ' consolidation'\\t ' p...</td>\n",
       "      <td>66</td>\n",
       "      <td>M</td>\n",
       "    </tr>\n",
       "    <tr>\n",
       "      <th>5</th>\n",
       "      <td>sub-S03046_ses-E06217_acq-1_run-1_bp-chest_vp-...</td>\n",
       "      <td>sub-S03046</td>\n",
       "      <td>ses-E06217</td>\n",
       "      <td>['unchanged']</td>\n",
       "      <td>58</td>\n",
       "      <td>F</td>\n",
       "    </tr>\n",
       "  </tbody>\n",
       "</table>\n",
       "</div>"
      ],
      "text/plain": [
       "                                            filename   PatientID    ReportID  \\\n",
       "0  sub-S03044_ses-E06138_run-1_bp-chest_vp-ap_cr.png  sub-S03044  ses-E06138   \n",
       "1  sub-S03044_ses-E06790_run-1_bp-chest_vp-pa_dx.png  sub-S03044  ses-E06790   \n",
       "2  sub-S03044_ses-E07712_run-1_bp-chest_vp-ap_cr.png  sub-S03044  ses-E07712   \n",
       "3  sub-S03045_ses-E06139_run-1_bp-chest_vp-ap_dx.png  sub-S03045  ses-E06139   \n",
       "4  sub-S03045_ses-E06910_acq-1_run-1_bp-chest_vp-...  sub-S03045  ses-E06910   \n",
       "5  sub-S03046_ses-E06217_acq-1_run-1_bp-chest_vp-...  sub-S03046  ses-E06217   \n",
       "\n",
       "                                              Labels age sex  \n",
       "0  ['endotracheal tube'\\t 'central venous cathete...  67   M  \n",
       "1  ['chronic changes'\\t 'increased density'\\t ' p...  67   M  \n",
       "2  ['unchanged'\\t 'central venous catheter via su...  67   M  \n",
       "3          ['interstitial pattern'\\t 'cardiomegaly']  66   M  \n",
       "4  ['atypical pneumonia'\\t ' consolidation'\\t ' p...  66   M  \n",
       "5                                      ['unchanged']  58   F  "
      ]
     },
     "execution_count": 20,
     "metadata": {},
     "output_type": "execute_result"
    }
   ],
   "source": [
    "m2.head(6)"
   ]
  },
  {
   "cell_type": "code",
   "execution_count": 21,
   "metadata": {},
   "outputs": [],
   "source": [
    "m2.reset_index(inplace=True,drop=True)\n",
    "\n",
    "cn = ['filename','PatientID','ReportID','age','sex','Labels']\n",
    "m2 = m2.reindex(columns=cn)"
   ]
  },
  {
   "cell_type": "code",
   "execution_count": 22,
   "metadata": {},
   "outputs": [],
   "source": [
    "frames = [m2, pc2]\n",
    "final_df = pd.concat(frames)"
   ]
  },
  {
   "cell_type": "code",
   "execution_count": 23,
   "metadata": {},
   "outputs": [],
   "source": [
    "final_df['Labels2'] = final_df['Labels'].replace(\"'\", '', regex=True)\n",
    "final_df['Labels2'] = final_df['Labels'].replace('\\t', ',', regex=True)\n",
    "final_df['Labels2'] = final_df['Labels2'].replace(\"'\", \"\", regex=True)\n",
    "final_df['Labels2'] = final_df['Labels2'].replace('\"', \"\", regex=True)\n",
    "final_df['Labels2'] = final_df['Labels2'].str.replace(\" \",\"\")\n",
    "final_df['Labels2'] = final_df['Labels2'].str.replace(\"[\",\"\")\n",
    "final_df['Labels2'] = final_df['Labels2'].str.replace(\"]\",\"\")\n",
    "final_df['Labels2'] = final_df['Labels2'].astype('category')"
   ]
  },
  {
   "cell_type": "code",
   "execution_count": 24,
   "metadata": {},
   "outputs": [],
   "source": [
    "#final_df_dum= final_df.drop('Labels2', 1).join(final_df.Labels2.str.join('').str.get_dummies(','))\n",
    "final_df_dum = final_df.Labels2.str.join('').str.get_dummies(',')"
   ]
  },
  {
   "cell_type": "markdown",
   "metadata": {},
   "source": [
    "### Combine Datasets"
   ]
  },
  {
   "cell_type": "code",
   "execution_count": 25,
   "metadata": {},
   "outputs": [],
   "source": [
    "df = pd.concat([final_df, final_df_dum], axis=1)"
   ]
  },
  {
   "cell_type": "code",
   "execution_count": 26,
   "metadata": {},
   "outputs": [
    {
     "data": {
      "text/plain": [
       "(2351, 6)"
      ]
     },
     "execution_count": 26,
     "metadata": {},
     "output_type": "execute_result"
    }
   ],
   "source": [
    "# add binary covid label\n",
    "#covid_label = [1] * 2351 + [0]*1812\n",
    "#df['covid_label'] = covid_label\n",
    "m2.shape"
   ]
  },
  {
   "cell_type": "code",
   "execution_count": 27,
   "metadata": {},
   "outputs": [],
   "source": [
    "df.age = df.age.astype('int')"
   ]
  },
  {
   "cell_type": "code",
   "execution_count": 28,
   "metadata": {},
   "outputs": [],
   "source": [
    "#df.to_csv('E:/final_df.csv')"
   ]
  },
  {
   "cell_type": "code",
   "execution_count": 29,
   "metadata": {},
   "outputs": [
    {
     "data": {
      "text/plain": [
       "(60941, 203)"
      ]
     },
     "execution_count": 29,
     "metadata": {},
     "output_type": "execute_result"
    }
   ],
   "source": [
    "df.shape"
   ]
  },
  {
   "cell_type": "code",
   "execution_count": 30,
   "metadata": {},
   "outputs": [],
   "source": [
    "df['filename']= df['filename'].str.replace(r'.png', '.jpg')\n"
   ]
  },
  {
   "cell_type": "code",
   "execution_count": 31,
   "metadata": {},
   "outputs": [],
   "source": [
    "import copy\n",
    "df2 = copy.copy(df)"
   ]
  },
  {
   "cell_type": "markdown",
   "metadata": {},
   "source": [
    "#### Rename columns"
   ]
  },
  {
   "cell_type": "code",
   "execution_count": 32,
   "metadata": {},
   "outputs": [],
   "source": [
    "df2.rename(columns={'radiologicalfinding':'radiological finding',\n",
    "'differentialdiagnosis':'differential diagnosis',\n",
    "'unchanged':'unchanged',\n",
    "'obesity':'obesity',\n",
    "'chronicchanges':'chronic changes',\n",
    "'calcifieddensities':'calcified densities',\n",
    "'granuloma':'granuloma',\n",
    "'endonvessel':'end on vessel',\n",
    "'adenopathy':'adenopathy',\n",
    "'nodule':'nodule',\n",
    "'pseudonodule':'pseudonodule',\n",
    "'abscess':'abscess',\n",
    "'cyst':'cyst',\n",
    "'cavitation':'cavitation',\n",
    "'fibroticband':'fibrotic band',\n",
    "'volumeloss':'volume loss',\n",
    "'hypoexpansion':'hypoexpansion',\n",
    "'bullas':'bullas',\n",
    "'pneumothorax':'pneumothorax',\n",
    "'pneumoperitoneo':'pneumoperitoneo',\n",
    "'pneumomediastinum':'pneumomediastinum',\n",
    "'subcutaneousemphysema':'subcutaneous emphysema',\n",
    "'hyperinflatedlung':'hyperinflated lung',\n",
    "'flatteneddiaphragm':'flattened diaphragm',\n",
    "'lungvascularpaucity':'lung vascular paucity',\n",
    "'airtrapping':'air trapping',\n",
    "'bronchiectasis':'bronchiectasis',\n",
    "'infiltrates':'infiltrates',\n",
    "'bronchovascularmarkings':'bronchovascular markings',\n",
    "'airfluidlevel':'air fluid level',\n",
    "'increaseddensity':'increased density',\n",
    "'atelectasis':'atelectasis',\n",
    "'mediastinalshift':'mediastinal shift',\n",
    "'azygoslobe':'azygos lobe',\n",
    "'fissurethickening':'fissure thickening',\n",
    "'pleuralthickening':'pleural thickening',\n",
    "'pleuralplaques':'pleural plaques',\n",
    "'pleuraleffusion':'pleural effusion',\n",
    "'pleuralmass':'pleural mass',\n",
    "'costophrenicangleblunting':'costophrenic angle blunting',\n",
    "'vascularredistribution':'vascular redistribution',\n",
    "'hilarenlargement':'hilar enlargement',\n",
    "'hilarcongestion':'hilar congestion',\n",
    "'cardiomegaly':'cardiomegaly',\n",
    "'pericardialeffusion':'pericardial effusion',\n",
    "'kerleylines':'kerley lines',\n",
    "'dextrocardia':'dextrocardia',\n",
    "'rightsidedaorticarch':'right sided aortic arch',\n",
    "'aorticatheromatosis':'aortic atheromatosis',\n",
    "'aorticelongation':'aortic elongation',\n",
    "'aorticaneurysm':'aortic aneurysm',\n",
    "'mediastinalenlargement':'mediastinal enlargement',\n",
    "'trachealshift':'tracheal shift',\n",
    "'mass':'mass',\n",
    "'esophagicdilatation':'esophagic dilatation',\n",
    "'azygoesophagealrecessshift':'azygoesophageal recess shift',\n",
    "'mediastiniclipomatosis':'mediastinic lipomatosis',\n",
    "'thoraciccagedeformation':'thoracic cage deformation',\n",
    "'vertebraldegenerativechanges':'vertebral degenerative changes',\n",
    "'lyticbonelesion':'lytic bone lesion',\n",
    "'scleroticbonelesion':'sclerotic bone lesion',\n",
    "'costochondraljunctionhypertrophy':'costochondral junction hypertrophy',\n",
    "'sternoclavicularjunctionhypertrophy':'sternoclavicular junction hypertrophy',\n",
    "'axialhyperostosis':'axial hyperostosis',\n",
    "'osteopenia':'osteopenia',\n",
    "'osteoporosis':'osteoporosis',\n",
    "'nonaxialarticulardegenerativechanges':'non axial articular degenerative changes',\n",
    "'subacromialspacenarrowing':'subacromial space narrowing',\n",
    "'fracture':'fracture',\n",
    "'gynecomastia':'gynecomastia',\n",
    "'hiatalhernia':'hiatal hernia',\n",
    "'Chilaiditisign':'Chilaiditi sign',\n",
    "'hemidiaphragmelevation':'hemidiaphragm elevation',\n",
    "'diaphragmaticeventration':'diaphragmatic eventration',\n",
    "'tracheostomytube':'tracheostomy tube',\n",
    "'endotrachealtube':'endotracheal tube',\n",
    "'NSGtube':'NSG tube',\n",
    "'chestdraintube':'chest drain tube',\n",
    "'ventriculoperitonealdraintube':'ventriculoperitoneal drain tube',\n",
    "'gastrostomytube':'gastrostomy tube',\n",
    "'nephrostomytube':'nephrostomy tube',\n",
    "'doubleJstent':'double J stent',\n",
    "'catheter':'catheter',\n",
    "'electricaldevice':'electrical device',\n",
    "'artificialheartvalve':'artificial heart valve',\n",
    "'surgery':'surgery',\n",
    "'abnormalforeignbody':'abnormal foreign body',\n",
    "'externalforeignbody':'external foreign body',\n",
    "'pneumonia':'pneumonia',\n",
    "'tuberculosis':'tuberculosis',\n",
    "'lungmetastasis':'lung metastasis',\n",
    "'lymphangitiscarcinomatosa':'lymphangitis carcinomatosa',\n",
    "'lepidicadenocarcinoma':'lepidic adenocarcinoma',\n",
    "'pulmonaryfibrosis':'pulmonary fibrosis',\n",
    "'emphysema':'emphysema',\n",
    "'COPDsigns':'COPD signs',\n",
    "'heartinsufficiency':'heart insufficiency',\n",
    "'respiratorydistress':'respiratory distress',\n",
    "'pulmonaryhypertension':'pulmonary hypertension',\n",
    "'pulmonaryedema':'pulmonary edema',\n",
    "'bonemetastasis':'bone metastasis',\n",
    "'calcifiedgranuloma':'calcified granuloma',\n",
    "'calcifiedadenopathy':'calcified adenopathy',\n",
    "'calcifiedpleuralthickening':'calcified pleural thickening',\n",
    "'calcifiedpleuralplaques':'calcified pleural plaques',\n",
    "'heartvalvecalcified':'heart valve calcified',\n",
    "'calcifiedfibroadenoma':'calcified fibroadenoma',\n",
    "'multiplenodules':'multiple nodules',\n",
    "'nippleshadow':'nipple shadow',\n",
    "'hydropneumothorax':'hydropneumothorax',\n",
    "'interstitialpattern':'interstitial pattern',\n",
    "'alveolarpattern':'alveolar pattern',\n",
    "'totalatelectasis':'total atelectasis',\n",
    "'lobaratelectasis':'lobar atelectasis',\n",
    "'segmentalatelectasis':'segmental atelectasis',\n",
    "'laminaratelectasis':'laminar atelectasis',\n",
    "'roundatelectasis':'round atelectasis',\n",
    "'atelectasisbasal':'atelectasis basal',\n",
    "'minorfissurethickening':'minor fissure thickening',\n",
    "'majorfissurethickening':'major fissure thickening',\n",
    "'loculatedfissuraleffusion':'loculated fissural effusion',\n",
    "'apicalpleuralthickening':'apical pleural thickening',\n",
    "'calcifiedpleuralthickening':'calcified pleural thickening',\n",
    "'calcifiedpleuralplaques':'calcified pleural plaques',\n",
    "'loculatedpleuraleffusion':'loculated pleural effusion',\n",
    "'hydropneumothorax':'hydropneumothorax',\n",
    "'empyema':'empyema',\n",
    "'hemothorax':'hemothorax',\n",
    "'centralvascularredistribution':'central vascular redistribution',\n",
    "'adenopathy':'adenopathy',\n",
    "'vascularhilarenlargement':'vascular hilar enlargement',\n",
    "'descendentaorticelongation':'descendent aortic elongation',\n",
    "'ascendentaorticelongation':'ascendent aortic elongation',\n",
    "'aorticbuttonenlargement':'aortic button enlargement',\n",
    "'supraaorticelongation':'supra aortic elongation',\n",
    "'superiormediastinalenlargement':'superior mediastinal enlargement',\n",
    "'mediastinalmass':'mediastinal mass',\n",
    "'breastmass':'breast mass',\n",
    "'pulmonarymass':'pulmonary mass',\n",
    "'softtissuemass':'soft tissue mass',\n",
    "'scoliosis':'scoliosis',\n",
    "'kyphosis':'kyphosis',\n",
    "'pectumexcavatum':'pectum excavatum',\n",
    "'pectumcarinatum':'pectum carinatum',\n",
    "'cervicalrib':'cervical rib',\n",
    "'vertebralcompression':'vertebral compression',\n",
    "'blasticbonelesion':'blastic bone lesion',\n",
    "'claviclefracture':'clavicle fracture',\n",
    "'humeralfracture':'humeral fracture',\n",
    "'vertebralfracture':'vertebral fracture',\n",
    "'ribfracture':'rib fracture',\n",
    "'centralvenouscatheter':'central venous catheter',\n",
    "'dualchamberdevice':'dual chamber device',\n",
    "'singlechamberdevice':'single chamber device',\n",
    "'pacemaker':'pacemaker',\n",
    "'dai':'dai',\n",
    "'artificialmitralheartvalve':'artificial mitral heart valve',\n",
    "'artificialaorticheartvalve':'artificial aortic heart valve',\n",
    "'metal':'metal',\n",
    "'bonecement':'bone cement',\n",
    "'prosthesis':'prosthesis',\n",
    "'surgerybreast':'surgery breast',\n",
    "'surgeryneck':'surgery neck',\n",
    "'surgerylung':'surgery lung',\n",
    "'surgeryheart':'surgery heart',\n",
    "'surgeryhumeral':'surgery humeral',\n",
    "'atypicalpneumonia':'atypical pneumonia ',\n",
    "'viralpneumonia':'viral pneumonia',\n",
    "'tuberculosissequelae':'tuberculosis sequelae',\n",
    "'postradiotherapychanges':'post radiotherapy changes',\n",
    "'asbestosissigns':'asbestosis signs',\n",
    "'pulmonaryarteryhypertension':'pulmonary artery hypertension',\n",
    "'pulmonaryvenoushypertension':'pulmonary venous hypertension',\n",
    "'calcifiedmediastinaladenopathy':'calcified mediastinal adenopathy',\n",
    "'groundglasspattern':'ground glass pattern',\n",
    "'reticularinterstitialpattern':'reticular interstitial pattern',\n",
    "'reticulonodularinterstitialpattern':'reticulonodular interstitial pattern',\n",
    "'miliaryopacities':'miliary opacities',\n",
    "'consolidation':'consolidation',\n",
    "'airbronchogram':'air bronchogram',\n",
    "'pulmonaryarteryenlargement':'pulmonary artery enlargement',\n",
    "'goiter':'goiter',\n",
    "'vertebralanteriorcompression':'vertebral anterior compression',\n",
    "'callusribfracture':'callus rib fracture',\n",
    "'centralvenouscatheterviasubclavianvein':'central venous catheter via subclavian vein',\n",
    "'centralvenouscatheterviajugularvein':'central venous catheter via jugular vein',\n",
    "'reservoircentralvenouscatheter':'reservoir central venous catheter',\n",
    "'centralvenouscatheterviaumbilicalvein':'central venous catheter via umbilical vein',\n",
    "'osteosynthesismaterial':'osteosynthesis material',\n",
    "'sternotomy':'sternotomy',\n",
    "'suturematerial':'suture material',\n",
    "'humeralprosthesis':'humeral prosthesis',\n",
    "'mammaryprosthesis':'mammary prosthesis',\n",
    "'endoprosthesis':'endoprosthesis',\n",
    "'mastectomy':'mastectomy',\n",
    "'COVID19':'COVID19',\n",
    "'COVID19uncertain':'COVID19 uncertain',\n",
    "'aorticendoprosthesis':'aortic endoprosthesis'\n",
    "}, inplace=True)"
   ]
  },
  {
   "cell_type": "markdown",
   "metadata": {},
   "source": [
    "### Create hierarchical label structure"
   ]
  },
  {
   "cell_type": "code",
   "execution_count": 33,
   "metadata": {},
   "outputs": [],
   "source": [
    "#level 5\n",
    "df2.loc[df2['air bronchogram'] == 1, 'consolidation'] = 1\n",
    "df2.loc[df2['aortic endoprosthesis'] == 1, 'endoprosthesis'] = 1"
   ]
  },
  {
   "cell_type": "code",
   "execution_count": 34,
   "metadata": {},
   "outputs": [],
   "source": [
    "#level 4\n",
    "df2.loc[df2['calcified mediastinal adenopathy'] == 1, 'calcified adenopathy'] = 1\n",
    "df2.loc[df2['ground glass pattern'] == 1, 'interstitial pattern'] = 1\n",
    "df2.loc[df2['reticular interstitial pattern'] == 1, 'interstitial pattern'] = 1\n",
    "df2.loc[df2['reticulonodular interstitial pattern'] == 1, 'interstitial pattern'] = 1\n",
    "df2.loc[df2['miliary opacities'] == 1, 'interstitial pattern'] = 1\n",
    "df2.loc[df2['consolidation'] == 1, 'alveolar pattern'] = 1\n",
    "df2.loc[df2['air bronchogram'] == 1, 'alveolar pattern'] = 1\n",
    "df2.loc[df2['pulmonary artery enlargement'] == 1, 'vascular hilar enlargement'] = 1\n",
    "df2.loc[df2['goiter'] == 1, 'superior mediastinal enlargement'] = 1\n",
    "df2.loc[df2['supra aortic elongation'] == 1, 'superior mediastinal enlargement'] = 1\n",
    "df2.loc[df2['vertebral anterior compression'] == 1, 'vertebral compression'] = 1\n",
    "df2.loc[df2['callus rib fracture'] == 1, 'rib fracture'] = 1\n",
    "df2.loc[df2['central venous catheter via subclavian vein'] == 1, 'central venous catheter'] = 1\n",
    "df2.loc[df2['central venous catheter via jugular vein'] == 1, 'central venous catheter'] = 1\n",
    "df2.loc[df2['reservoir central venous catheter'] == 1, 'central venous catheter'] = 1\n",
    "#df2.loc[df2['central venous catheter via umbilical vein'] == 1, 'central venous catheter'] = 1\n",
    "df2.loc[df2['osteosynthesis material'] == 1, 'metal'] = 1\n",
    "df2.loc[df2['sternotomy'] == 1, 'metal'] = 1\n",
    "df2.loc[df2['suture material'] == 1, 'metal'] = 1\n",
    "df2.loc[df2['humeral prosthesis'] == 1, 'prosthesis'] = 1\n",
    "df2.loc[df2['mammary prosthesis'] == 1, 'prosthesis'] = 1\n",
    "df2.loc[df2['endoprosthesis'] == 1, 'prosthesis'] = 1\n",
    "df2.loc[df2['mastectomy'] == 1, 'surgery breast'] = 1\n",
    "df2.loc[df2['COVID19'] == 1, 'viral pneumonia'] = 1\n",
    "df2.loc[df2['COVID19 uncertain'] == 1, 'viral pneumonia'] = 1\n"
   ]
  },
  {
   "cell_type": "code",
   "execution_count": 35,
   "metadata": {},
   "outputs": [],
   "source": [
    "#level 3\n",
    "df2.loc[df2['calcified granuloma'] == 1, 'calcified densities'] = 1\n",
    "df2.loc[df2['calcified adenopathy'] == 1, 'calcified densities'] = 1\n",
    "df2.loc[df2['calcified pleural thickening'] == 1, 'calcified densities'] = 1\n",
    "df2.loc[df2['calcified pleural plaques'] == 1, 'calcified densities'] = 1\n",
    "df2.loc[df2['heart valve calcified'] == 1, 'calcified densities'] = 1\n",
    "df2.loc[df2['calcified fibroadenoma'] == 1, 'calcified densities'] = 1\n",
    "df2.loc[df2['calcified fibroadenoma'] == 1, 'granuloma'] = 1\n",
    "df2.loc[df2['calcified granuloma'] == 1, 'granuloma'] = 1\n",
    "df2.loc[df2['calcified adenopathy'] == 1, 'adenopathy'] = 1\n",
    "df2.loc[df2['multiple nodules'] == 1, 'nodule'] = 1\n",
    "df2.loc[df2['nipple shadow'] == 1, 'pseudonodule'] = 1\n",
    "df2.loc[df2['end on vessel'] == 1, 'pseudonodule'] = 1\n",
    "df2.loc[df2['hydropneumothorax'] == 1, 'pneumothorax'] = 1\n",
    "df2.loc[df2['interstitial pattern'] == 1, 'infiltrates'] = 1\n",
    "df2.loc[df2['alveolar pattern'] == 1, 'infiltrates'] = 1\n",
    "df2.loc[df2['total atelectasis'] == 1, 'atelectasis'] = 1\n",
    "df2.loc[df2['lobar atelectasis'] == 1, 'atelectasis'] = 1\n",
    "df2.loc[df2['segmental atelectasis'] == 1, 'atelectasis'] = 1\n",
    "df2.loc[df2['laminar atelectasis'] == 1, 'atelectasis'] = 1\n",
    "df2.loc[df2['round atelectasis'] == 1, 'atelectasis'] = 1\n",
    "df2.loc[df2['atelectasis basal'] == 1, 'atelectasis'] = 1\n",
    "df2.loc[df2['minor fissure thickening'] == 1, 'fissure thickening'] = 1\n",
    "df2.loc[df2['major fissure thickening'] == 1, 'fissure thickening'] = 1\n",
    "df2.loc[df2['loculated fissural effusion'] == 1, 'fissure thickening'] = 1\n",
    "df2.loc[df2['apical pleural thickening'] == 1, 'pleural thickening'] = 1\n",
    "df2.loc[df2['calcified pleural thickening'] == 1, 'pleural thickening'] = 1\n",
    "df2.loc[df2['calcified pleural plaques'] == 1, 'pleural plaques'] = 1\n",
    "df2.loc[df2['loculated pleural effusion'] == 1, 'pleural effusion'] = 1\n",
    "df2.loc[df2['loculated fissural effusion'] == 1, 'pleural effusion'] = 1\n",
    "df2.loc[df2['hydropneumothorax'] == 1, 'pleural effusion'] = 1\n",
    "df2.loc[df2['empyema'] == 1, 'pleural effusion'] = 1\n",
    "#df2.loc[df2['hemothorax'] == 1, 'pleural effusion'] = 1\n",
    "df2.loc[df2['central vascular redistribution'] == 1, 'vascular redistribution'] = 1\n",
    "df2.loc[df2['adenopathy'] == 1, 'hilar enlargement'] = 1\n",
    "df2.loc[df2['vascular hilar enlargement'] == 1, 'hilar enlargement'] = 1\n",
    "df2.loc[df2['descendent aortic elongation'] == 1, 'aortic elongation'] = 1\n",
    "df2.loc[df2['ascendent aortic elongation'] == 1, 'aortic elongation'] = 1\n",
    "df2.loc[df2['aortic button enlargement'] == 1, 'aortic elongation'] = 1\n",
    "df2.loc[df2['supra aortic elongation'] == 1, 'aortic elongation'] = 1\n",
    "df2.loc[df2['superior mediastinal enlargement'] == 1, 'mediastinal enlargement'] = 1\n",
    "df2.loc[df2['descendent aortic elongation'] == 1, 'mediastinal enlargement'] = 1\n",
    "df2.loc[df2['ascendent aortic elongation'] == 1, 'mediastinal enlargement'] = 1\n",
    "df2.loc[df2['aortic aneurysm'] == 1, 'mediastinal enlargement'] = 1\n",
    "df2.loc[df2['mediastinal mass'] == 1, 'mediastinal enlargement'] = 1\n",
    "df2.loc[df2['hiatal hernia'] == 1, 'mediastinal enlargement'] = 1\n",
    "df2.loc[df2['mediastinal mass'] == 1, 'mass'] = 1\n",
    "df2.loc[df2['breast mass'] == 1, 'mass'] = 1\n",
    "df2.loc[df2['pleural mass'] == 1, 'mass'] = 1\n",
    "df2.loc[df2['pulmonary mass'] == 1, 'mass'] = 1\n",
    "df2.loc[df2['soft tissue mass'] == 1, 'mass'] = 1\n",
    "df2.loc[df2['scoliosis'] == 1, 'thoracic cage deformation'] = 1\n",
    "df2.loc[df2['kyphosis'] == 1, 'thoracic cage deformation'] = 1\n",
    "df2.loc[df2['pectum excavatum'] == 1, 'thoracic cage deformation'] = 1\n",
    "df2.loc[df2['pectum carinatum'] == 1, 'thoracic cage deformation'] = 1\n",
    "df2.loc[df2['cervical rib'] == 1, 'thoracic cage deformation'] = 1\n",
    "df2.loc[df2['vertebral compression'] == 1, 'vertebral degenerative changes'] = 1\n",
    "df2.loc[df2['blastic bone lesion'] == 1, 'sclerotic bone lesion'] = 1\n",
    "df2.loc[df2['clavicle fracture'] == 1, 'fracture'] = 1\n",
    "df2.loc[df2['humeral fracture'] == 1, 'fracture'] = 1\n",
    "df2.loc[df2['vertebral fracture'] == 1, 'fracture'] = 1\n",
    "df2.loc[df2['rib fracture'] == 1, 'fracture'] = 1\n",
    "df2.loc[df2['central venous catheter'] == 1, 'catheter'] = 1\n",
    "df2.loc[df2['dual chamber device'] == 1, 'electrical device'] = 1\n",
    "df2.loc[df2['single chamber device'] == 1, 'electrical device'] = 1\n",
    "df2.loc[df2['pacemaker'] == 1, 'electrical device'] = 1\n",
    "df2.loc[df2['dai'] == 1, 'electrical device'] = 1\n",
    "df2.loc[df2['artificial mitral heart valve'] == 1, 'artificial heart valve'] = 1\n",
    "df2.loc[df2['artificial aortic heart valve'] == 1, 'artificial heart valve'] = 1\n",
    "df2.loc[df2['metal'] == 1, 'surgery'] = 1\n",
    "df2.loc[df2['bone cement'] == 1, 'surgery'] = 1\n",
    "df2.loc[df2['prosthesis'] == 1, 'surgery'] = 1\n",
    "df2.loc[df2['surgery breast'] == 1, 'surgery'] = 1\n",
    "df2.loc[df2['surgery neck'] == 1, 'surgery'] = 1\n",
    "df2.loc[df2['surgery lung'] == 1, 'surgery'] = 1\n",
    "df2.loc[df2['surgery heart'] == 1, 'surgery'] = 1\n",
    "df2.loc[df2['surgery humeral'] == 1, 'surgery'] = 1\n",
    "#df2.loc[df2['atypical pneumonia'] == 1, 'pneumonia'] = 1\n",
    "df2.loc[df2['viral pneumonia'] == 1, 'pneumonia'] = 1\n",
    "df2.loc[df2['tuberculosis sequelae'] == 1, 'tuberculosis'] = 1\n",
    "df2.loc[df2['post radiotherapy changes'] == 1, 'pulmonary fibrosis'] = 1\n",
    "df2.loc[df2['asbestosis signs'] == 1, 'pulmonary fibrosis'] = 1\n",
    "df2.loc[df2['pulmonary artery hypertension'] == 1, 'pulmonary hypertension'] = 1\n",
    "df2.loc[df2['pulmonary venous hypertension'] == 1, 'pulmonary hypertension'] = 1\n"
   ]
  },
  {
   "cell_type": "code",
   "execution_count": 36,
   "metadata": {},
   "outputs": [],
   "source": [
    "#level 2\n",
    "df2.loc[df2['unchanged'] == 1, 'radiological finding'] = 1\n",
    "df2.loc[df2['obesity'] == 1, 'radiological finding'] = 1\n",
    "df2.loc[df2['chronic changes'] == 1, 'radiological finding'] = 1\n",
    "df2.loc[df2['calcified densities'] == 1, 'radiological finding'] = 1\n",
    "df2.loc[df2['granuloma'] == 1, 'radiological finding'] = 1\n",
    "df2.loc[df2['end on vessel'] == 1, 'radiological finding'] = 1\n",
    "df2.loc[df2['adenopathy'] == 1, 'radiological finding'] = 1\n",
    "df2.loc[df2['nodule'] == 1, 'radiological finding'] = 1\n",
    "df2.loc[df2['pseudonodule'] == 1, 'radiological finding'] = 1\n",
    "df2.loc[df2['abscess'] == 1, 'radiological finding'] = 1\n",
    "df2.loc[df2['cyst'] == 1, 'radiological finding'] = 1\n",
    "df2.loc[df2['cavitation'] == 1, 'radiological finding'] = 1\n",
    "df2.loc[df2['fibrotic band'] == 1, 'radiological finding'] = 1\n",
    "df2.loc[df2['volume loss'] == 1, 'radiological finding'] = 1\n",
    "df2.loc[df2['hypoexpansion'] == 1, 'radiological finding'] = 1\n",
    "df2.loc[df2['bullas'] == 1, 'radiological finding'] = 1\n",
    "df2.loc[df2['pneumothorax'] == 1, 'radiological finding'] = 1\n",
    "df2.loc[df2['pneumoperitoneo'] == 1, 'radiological finding'] = 1\n",
    "df2.loc[df2['pneumomediastinum'] == 1, 'radiological finding'] = 1\n",
    "df2.loc[df2['subcutaneous emphysema'] == 1, 'radiological finding'] = 1\n",
    "df2.loc[df2['hyperinflated lung'] == 1, 'radiological finding'] = 1\n",
    "df2.loc[df2['flattened diaphragm'] == 1, 'radiological finding'] = 1\n",
    "df2.loc[df2['lung vascular paucity'] == 1, 'radiological finding'] = 1\n",
    "df2.loc[df2['air trapping'] == 1, 'radiological finding'] = 1\n",
    "df2.loc[df2['bronchiectasis'] == 1, 'radiological finding'] = 1\n",
    "df2.loc[df2['infiltrates'] == 1, 'radiological finding'] = 1\n",
    "df2.loc[df2['bronchovascular markings'] == 1, 'radiological finding'] = 1\n",
    "df2.loc[df2['air fluid level'] == 1, 'radiological finding'] = 1\n",
    "df2.loc[df2['increased density'] == 1, 'radiological finding'] = 1\n",
    "df2.loc[df2['atelectasis'] == 1, 'radiological finding'] = 1\n",
    "df2.loc[df2['mediastinal shift'] == 1, 'radiological finding'] = 1\n",
    "df2.loc[df2['azygos lobe'] == 1, 'radiological finding'] = 1\n",
    "df2.loc[df2['fissure thickening'] == 1, 'radiological finding'] = 1\n",
    "df2.loc[df2['pleural thickening'] == 1, 'radiological finding'] = 1\n",
    "df2.loc[df2['pleural plaques'] == 1, 'radiological finding'] = 1\n",
    "df2.loc[df2['pleural effusion'] == 1, 'radiological finding'] = 1\n",
    "df2.loc[df2['pleural mass'] == 1, 'radiological finding'] = 1\n",
    "df2.loc[df2['costophrenic angle blunting'] == 1, 'radiological finding'] = 1\n",
    "df2.loc[df2['vascular redistribution'] == 1, 'radiological finding'] = 1\n",
    "df2.loc[df2['hilar enlargement'] == 1, 'radiological finding'] = 1\n",
    "df2.loc[df2['hilar congestion'] == 1, 'radiological finding'] = 1\n",
    "df2.loc[df2['cardiomegaly'] == 1, 'radiological finding'] = 1\n",
    "df2.loc[df2['pericardial effusion'] == 1, 'radiological finding'] = 1\n",
    "df2.loc[df2['kerley lines'] == 1, 'radiological finding'] = 1\n",
    "df2.loc[df2['dextrocardia'] == 1, 'radiological finding'] = 1\n",
    "df2.loc[df2['right sided aortic arch'] == 1, 'radiological finding'] = 1\n",
    "df2.loc[df2['aortic atheromatosis'] == 1, 'radiological finding'] = 1\n",
    "df2.loc[df2['aortic elongation'] == 1, 'radiological finding'] = 1\n",
    "df2.loc[df2['aortic aneurysm'] == 1, 'radiological finding'] = 1\n",
    "df2.loc[df2['mediastinal enlargement'] == 1, 'radiological finding'] = 1\n",
    "df2.loc[df2['tracheal shift'] == 1, 'radiological finding'] = 1\n",
    "df2.loc[df2['mass'] == 1, 'radiological finding'] = 1\n",
    "df2.loc[df2['esophagic dilatation'] == 1, 'radiological finding'] = 1\n",
    "df2.loc[df2['azygoesophageal recess shift'] == 1, 'radiological finding'] = 1\n",
    "df2.loc[df2['mediastinic lipomatosis'] == 1, 'radiological finding'] = 1\n",
    "df2.loc[df2['thoracic cage deformation'] == 1, 'radiological finding'] = 1\n",
    "df2.loc[df2['vertebral degenerative changes'] == 1, 'radiological finding'] = 1\n",
    "df2.loc[df2['lytic bone lesion'] == 1, 'radiological finding'] = 1\n",
    "df2.loc[df2['sclerotic bone lesion'] == 1, 'radiological finding'] = 1\n",
    "df2.loc[df2['costochondral junction hypertrophy'] == 1, 'radiological finding'] = 1\n",
    "df2.loc[df2['sternoclavicular junction hypertrophy'] == 1, 'radiological finding'] = 1\n",
    "df2.loc[df2['axial hyperostosis'] == 1, 'radiological finding'] = 1\n",
    "df2.loc[df2['osteopenia'] == 1, 'radiological finding'] = 1\n",
    "df2.loc[df2['osteoporosis'] == 1, 'radiological finding'] = 1\n",
    "df2.loc[df2['non axial articular degenerative changes'] == 1, 'radiological finding'] = 1\n",
    "df2.loc[df2['subacromial space narrowing'] == 1, 'radiological finding'] = 1\n",
    "df2.loc[df2['fracture'] == 1, 'radiological finding'] = 1\n",
    "df2.loc[df2['gynecomastia'] == 1, 'radiological finding'] = 1\n",
    "df2.loc[df2['hiatal hernia'] == 1, 'radiological finding'] = 1\n",
    "df2.loc[df2['Chilaiditi sign'] == 1, 'radiological finding'] = 1\n",
    "df2.loc[df2['hemidiaphragm elevation'] == 1, 'radiological finding'] = 1\n",
    "df2.loc[df2['diaphragmatic eventration'] == 1, 'radiological finding'] = 1\n",
    "df2.loc[df2['tracheostomy tube'] == 1, 'radiological finding'] = 1\n",
    "df2.loc[df2['endotracheal tube'] == 1, 'radiological finding'] = 1\n",
    "df2.loc[df2['NSG tube'] == 1, 'radiological finding'] = 1\n",
    "df2.loc[df2['chest drain tube'] == 1, 'radiological finding'] = 1\n",
    "df2.loc[df2['ventriculoperitoneal drain tube'] == 1, 'radiological finding'] = 1\n",
    "df2.loc[df2['gastrostomy tube'] == 1, 'radiological finding'] = 1\n",
    "df2.loc[df2['nephrostomy tube'] == 1, 'radiological finding'] = 1\n",
    "df2.loc[df2['double J stent'] == 1, 'radiological finding'] = 1\n",
    "df2.loc[df2['catheter'] == 1, 'radiological finding'] = 1\n",
    "df2.loc[df2['electrical device'] == 1, 'radiological finding'] = 1\n",
    "df2.loc[df2['artificial heart valve'] == 1, 'radiological finding'] = 1\n",
    "df2.loc[df2['surgery'] == 1, 'radiological finding'] = 1\n",
    "df2.loc[df2['abnormal foreign body'] == 1, 'radiological finding'] = 1\n",
    "df2.loc[df2['external foreign body'] == 1, 'radiological finding'] = 1\n",
    "df2.loc[df2['pneumonia'] == 1, 'differential diagnosis'] = 1\n",
    "df2.loc[df2['tuberculosis'] == 1, 'differential diagnosis'] = 1\n",
    "df2.loc[df2['lung metastasis'] == 1, 'differential diagnosis'] = 1\n",
    "df2.loc[df2['lymphangitis carcinomatosa'] == 1, 'differential diagnosis'] = 1\n",
    "df2.loc[df2['lepidic adenocarcinoma'] == 1, 'differential diagnosis'] = 1\n",
    "df2.loc[df2['pulmonary fibrosis'] == 1, 'differential diagnosis'] = 1\n",
    "df2.loc[df2['emphysema'] == 1, 'differential diagnosis'] = 1\n",
    "df2.loc[df2['COPD signs'] == 1, 'differential diagnosis'] = 1\n",
    "df2.loc[df2['heart insufficiency'] == 1, 'differential diagnosis'] = 1\n",
    "df2.loc[df2['respiratory distress'] == 1, 'differential diagnosis'] = 1\n",
    "df2.loc[df2['pulmonary hypertension'] == 1, 'differential diagnosis'] = 1\n",
    "df2.loc[df2['pulmonary edema'] == 1, 'differential diagnosis'] = 1\n",
    "df2.loc[df2['bone metastasis'] == 1, 'differential diagnosis'] = 1\n"
   ]
  },
  {
   "cell_type": "markdown",
   "metadata": {},
   "source": [
    "### Create train/testvalidation datasets"
   ]
  },
  {
   "cell_type": "code",
   "execution_count": 37,
   "metadata": {},
   "outputs": [
    {
     "data": {
      "text/plain": [
       "40845"
      ]
     },
     "execution_count": 37,
     "metadata": {},
     "output_type": "execute_result"
    }
   ],
   "source": [
    "#load train_val file list\n",
    "\n",
    "train_val = 'E:\\\\osfstorage-archive\\\\C19_images\\\\final_jpg\\\\'\n",
    "tv_list = list()\n",
    "import os\n",
    "for root, dirs, files in os.walk(train_val):\n",
    "    for name in files:\n",
    "        if name.endswith((\".jpg\")):\n",
    "            tv_list.append(name)\n",
    "            \n",
    "len(tv_list)"
   ]
  },
  {
   "cell_type": "code",
   "execution_count": 38,
   "metadata": {},
   "outputs": [
    {
     "data": {
      "text/plain": [
       "11493"
      ]
     },
     "execution_count": 38,
     "metadata": {},
     "output_type": "execute_result"
    }
   ],
   "source": [
    "test = 'E:\\\\osfstorage-archive\\\\C19_images\\\\test\\\\'\n",
    "test_list = list()\n",
    "import os\n",
    "for root, dirs, files in os.walk(test):\n",
    "    for name in files:\n",
    "        if name.endswith((\".jpg\")):\n",
    "            test_list.append(name)\n",
    "len(test_list)  "
   ]
  },
  {
   "cell_type": "code",
   "execution_count": 52,
   "metadata": {},
   "outputs": [],
   "source": [
    "test_list_df = pd.DataFrame(test_list)\n",
    "test_list_df.to_csv('E:/test_list_toomany.csv',index=False)"
   ]
  },
  {
   "cell_type": "code",
   "execution_count": 39,
   "metadata": {},
   "outputs": [],
   "source": [
    "df_trainval = df2[df2['filename'].isin(tv_list)]"
   ]
  },
  {
   "cell_type": "code",
   "execution_count": 40,
   "metadata": {},
   "outputs": [
    {
     "name": "stderr",
     "output_type": "stream",
     "text": [
      "C:\\Users\\colmc\\Anaconda3\\envs\\new_env\\lib\\site-packages\\pandas\\core\\generic.py:6245: SettingWithCopyWarning: \n",
      "A value is trying to be set on a copy of a slice from a DataFrame\n",
      "\n",
      "See the caveats in the documentation: https://pandas.pydata.org/pandas-docs/stable/user_guide/indexing.html#returning-a-view-versus-a-copy\n",
      "  self._update_inplace(new_data)\n"
     ]
    }
   ],
   "source": [
    "df_trainval['radiological finding'].fillna(0, inplace=True)\n",
    "df_trainval['differential diagnosis'].fillna(0, inplace=True)"
   ]
  },
  {
   "cell_type": "code",
   "execution_count": 41,
   "metadata": {},
   "outputs": [],
   "source": [
    "df_trainval.to_csv('E:/df_train_val.csv')"
   ]
  },
  {
   "cell_type": "code",
   "execution_count": 42,
   "metadata": {},
   "outputs": [],
   "source": [
    "df_trainval_2 = df_trainval[df_trainval['unchanged'] == 0]\n",
    "df_trainval_2.drop(['unchanged'], axis=1, inplace=True)"
   ]
  },
  {
   "cell_type": "code",
   "execution_count": 43,
   "metadata": {},
   "outputs": [],
   "source": [
    "#drop images with no labels\n",
    "filter2 = df_trainval_2[\"Labels2\"] != \"\"\n",
    "df_trainval_2 = df_trainval_2[filter2]\n"
   ]
  },
  {
   "cell_type": "code",
   "execution_count": 44,
   "metadata": {},
   "outputs": [],
   "source": [
    "df_trainval_2.to_csv('E:/df_train_val_unchanged.csv')"
   ]
  },
  {
   "cell_type": "code",
   "execution_count": 45,
   "metadata": {},
   "outputs": [],
   "source": [
    "df_trainval_sort = df_trainval_2.sort_values('PatientID').reset_index(drop=True)\n",
    "\n",
    "df_train = pd.concat([df_trainval_sort.head(29500), df_trainval_sort.tail(1090)])\n",
    "df_val = df_trainval_sort[~df_trainval_sort.isin(df_train)].dropna()\n",
    "df_val = df_val.reset_index(drop=True) \n",
    "df_train = df_train.reset_index(drop=True)"
   ]
  },
  {
   "cell_type": "code",
   "execution_count": 46,
   "metadata": {},
   "outputs": [],
   "source": [
    "df_train.to_csv('E:/train.csv')\n",
    "df_val.to_csv('E:/validate.csv')"
   ]
  },
  {
   "cell_type": "code",
   "execution_count": 47,
   "metadata": {},
   "outputs": [],
   "source": [
    "#remove suboptimal,exclude?"
   ]
  },
  {
   "cell_type": "code",
   "execution_count": 49,
   "metadata": {},
   "outputs": [],
   "source": [
    "df_test = df2[df2['filename'].isin(test_list)]\n",
    "df_test['radiological finding'].fillna(0, inplace=True)\n",
    "df_test['differential diagnosis'].fillna(0, inplace=True)\n",
    "df_test_2 = df_test[df_test['unchanged'] == 0]\n",
    "df_test_2.drop(['unchanged'], axis=1, inplace=True)\n",
    "#drop images with no labels\n",
    "filter2 = df_test_2[\"Labels2\"] != \"\"\n",
    "df_test_2 = df_test_2[filter2]\n",
    "df_test_2.to_csv('E:/test_2.csv')"
   ]
  },
  {
   "cell_type": "code",
   "execution_count": 50,
   "metadata": {},
   "outputs": [
    {
     "data": {
      "text/plain": [
       "(10158, 204)"
      ]
     },
     "execution_count": 50,
     "metadata": {},
     "output_type": "execute_result"
    }
   ],
   "source": [
    "df_test_2.shape"
   ]
  }
 ],
 "metadata": {
  "kernelspec": {
   "display_name": "Python 3",
   "language": "python",
   "name": "python3"
  },
  "language_info": {
   "codemirror_mode": {
    "name": "ipython",
    "version": 3
   },
   "file_extension": ".py",
   "mimetype": "text/x-python",
   "name": "python",
   "nbconvert_exporter": "python",
   "pygments_lexer": "ipython3",
   "version": "3.6.9"
  }
 },
 "nbformat": 4,
 "nbformat_minor": 2
}
